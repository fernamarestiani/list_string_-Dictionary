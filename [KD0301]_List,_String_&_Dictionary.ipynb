{
  "nbformat": 4,
  "nbformat_minor": 0,
  "metadata": {
    "colab": {
      "name": "[KD0301]_List,_String_&_Dictionary.ipynb",
      "provenance": [],
      "collapsed_sections": [
        "Y0cxNwSpKqLf",
        "SXjjDvqYwPWD"
      ],
      "toc_visible": true,
      "include_colab_link": true
    },
    "kernelspec": {
      "name": "python3",
      "display_name": "Python 3"
    }
  },
  "cells": [
    {
      "cell_type": "markdown",
      "metadata": {
        "id": "view-in-github",
        "colab_type": "text"
      },
      "source": [
        "<a href=\"https://colab.research.google.com/github/fernamarestiani/list_string_-Dictionary/blob/main/%5BKD0301%5D_List%2C_String_%26_Dictionary.ipynb\" target=\"_parent\"><img src=\"https://colab.research.google.com/assets/colab-badge.svg\" alt=\"Open In Colab\"/></a>"
      ]
    },
    {
      "cell_type": "markdown",
      "metadata": {
        "id": "z4A1mfUYu7qg"
      },
      "source": [
        "![alt text](https://drive.google.com/uc?id=1Jnmc3tPdh1jxyNwURPKEqzpM_qdEwaJc\n",
        ")"
      ]
    },
    {
      "cell_type": "markdown",
      "metadata": {
        "id": "MtoDiMzGwXiA"
      },
      "source": [
        "Assalamualaikum warahmatullahi wabarakatuh.\n",
        "\n",
        "***Robbi Zidni Ilma Warzuqni Fahma***\n",
        "\n",
        "Semoga Allah memberi kemudahan untuk kita memperoleh ilmu yang bermanfaat.\n",
        "\n",
        "Ini adalah notebook yang disusun untuk program **Kelas Dasar Pejuang Data 2.0** .\n",
        "\n",
        "Ini adalah **Notebook, List, String, & Dictionary Pada Python**:\n",
        "\n",
        "## **Hasil Yang Ingin Dicapai**\n",
        "1. Memahami List Pada Python\n",
        "2. Mengenal dan memahami method-method pada List Python\n",
        "3. Memahami String Pada Python\n",
        "4. Mengenal dan memahami method-method pada String Python\n",
        "5. Memahami Dictionary Pada Python\n",
        "6. Mengenal dan memahami method-method pada Dictionary Python\n",
        "\n",
        "\n",
        "\n"
      ]
    },
    {
      "cell_type": "markdown",
      "metadata": {
        "id": "Y0cxNwSpKqLf"
      },
      "source": [
        "# **List Pada Python**\n",
        "List adalah jenis kumpulan data terurut (ordered sequence), dan merupakan salah satu variabel yang sering digunakan pada Python. Serupa, namun tak sama dengan array pada bahasa pemrograman lainnya. Bedanya, elemen List pada Python tidak harus memiliki tipe data yang sama. Mendeklarasikan List cukup mudah dengan kurung siku dan elemen yang dipisahkan dengan koma. \n"
      ]
    },
    {
      "cell_type": "markdown",
      "metadata": {
        "id": "HBL8Vey2Pbf5"
      },
      "source": [
        "## Membuat List"
      ]
    },
    {
      "cell_type": "code",
      "metadata": {
        "id": "9pOtKzstLp3_",
        "colab": {
          "base_uri": "https://localhost:8080/"
        },
        "outputId": "96a4e52a-7c7f-496b-a04d-ed9165ee61a1"
      },
      "source": [
        "matkul = [\"fuzzy\", \"pdp\", \"metnum\" , \"graf\"]\n",
        "print(matkul)"
      ],
      "execution_count": null,
      "outputs": [
        {
          "output_type": "stream",
          "text": [
            "['fuzzy', 'pdp', 'metnum', 'graf']\n"
          ],
          "name": "stdout"
        }
      ]
    },
    {
      "cell_type": "code",
      "metadata": {
        "colab": {
          "base_uri": "https://localhost:8080/"
        },
        "id": "WhEn4Qj0IGz5",
        "outputId": "aca7ab97-9821-4ece-ec1c-6cfdc119b0c3"
      },
      "source": [
        "Idol = [\"chanyeol\", \"sehun\", \"baekhyun\" , \"jungkook\"]\n",
        "print(Idol)"
      ],
      "execution_count": 15,
      "outputs": [
        {
          "output_type": "stream",
          "text": [
            "['chanyeol', 'sehun', 'baekhyun', 'jungkook']\n"
          ],
          "name": "stdout"
        }
      ]
    },
    {
      "cell_type": "markdown",
      "metadata": {
        "id": "PbSXryBkPdYT"
      },
      "source": [
        "## Mengakses elemen List"
      ]
    },
    {
      "cell_type": "code",
      "metadata": {
        "id": "XEFXSFLtI1Ew"
      },
      "source": [
        ""
      ],
      "execution_count": null,
      "outputs": []
    },
    {
      "cell_type": "markdown",
      "metadata": {
        "id": "15RUf2ihMM-Z"
      },
      "source": [
        "Menampilkan elemen\n",
        "caranya dengan menggunakan fungsi print"
      ]
    },
    {
      "cell_type": "code",
      "metadata": {
        "id": "Hp7Maj7rMf01",
        "colab": {
          "base_uri": "https://localhost:8080/"
        },
        "outputId": "610f9fc4-c18b-41a5-bea7-0f56bdfcd0f9"
      },
      "source": [
        "matkul = [\"fuzzy\", \"pdp\", \"metnum\" , \"graph\"]\n",
        "print(matkul[2])\n",
        "print(matkul[2:])\n",
        "print(matkul[0:3:2])\n",
        "print(matkul[-2])\n",
        "print(matkul[-4:-1])"
      ],
      "execution_count": null,
      "outputs": [
        {
          "output_type": "stream",
          "text": [
            "metnum\n",
            "['metnum', 'graph']\n",
            "['fuzzy', 'metnum']\n",
            "metnum\n",
            "['fuzzy', 'pdp', 'metnum']\n"
          ],
          "name": "stdout"
        }
      ]
    },
    {
      "cell_type": "code",
      "metadata": {
        "colab": {
          "base_uri": "https://localhost:8080/"
        },
        "id": "aYGLswQVIsRJ",
        "outputId": "b5bfb28e-7cef-4a5f-be27-f7654e03b03a"
      },
      "source": [
        "Idol = [\"chanyeol\", \"sehun\", \"baekhyun\" , \"jungkook\"]\n",
        "print(Idol[2])\n",
        "print(Idol[2:])\n",
        "print(Idol[0:3:2])\n",
        "print(Idol[-2])\n",
        "print(Idol[-4:-1])"
      ],
      "execution_count": 17,
      "outputs": [
        {
          "output_type": "stream",
          "text": [
            "baekhyun\n",
            "['baekhyun', 'jungkook']\n",
            "['chanyeol', 'baekhyun']\n",
            "baekhyun\n",
            "['chanyeol', 'sehun', 'baekhyun']\n"
          ],
          "name": "stdout"
        }
      ]
    },
    {
      "cell_type": "markdown",
      "metadata": {
        "id": "v-KS7vuvPjYn"
      },
      "source": [
        "## Mengubah elemen List"
      ]
    },
    {
      "cell_type": "markdown",
      "metadata": {
        "id": "RSAg61A8a2qG"
      },
      "source": [
        "cara mengubah elemen dalam list"
      ]
    },
    {
      "cell_type": "code",
      "metadata": {
        "id": "UvoInRZ-bBWR",
        "colab": {
          "base_uri": "https://localhost:8080/"
        },
        "outputId": "35be2c92-ddd7-4f1e-a4e5-3bd2f684bf7c"
      },
      "source": [
        "matkul = [\"fuzzy\", \"pdp\", \"metnum\" , \"graf\" , \"sisdim\"]\n",
        "matkul[3] = \"aktuaria\"\n",
        "print(matkul)"
      ],
      "execution_count": null,
      "outputs": [
        {
          "output_type": "stream",
          "text": [
            "['fuzzy', 'pdp', 'metnum', 'aktuaria', 'sisdim']\n"
          ],
          "name": "stdout"
        }
      ]
    },
    {
      "cell_type": "code",
      "metadata": {
        "colab": {
          "base_uri": "https://localhost:8080/"
        },
        "id": "ZQzExor8JTjp",
        "outputId": "def1008d-a93f-4956-d29e-3261d64b7498"
      },
      "source": [
        "Idol = [\"chanyeol\", \"sehun\", \"baekhyun\" , \"jungkook\" , \"lucas\"]\n",
        "Idol[3] = \"jackson\"\n",
        "print(Idol)"
      ],
      "execution_count": 19,
      "outputs": [
        {
          "output_type": "stream",
          "text": [
            "['chanyeol', 'sehun', 'baekhyun', 'jackson', 'lucas']\n"
          ],
          "name": "stdout"
        }
      ]
    },
    {
      "cell_type": "markdown",
      "metadata": {
        "id": "qgQOa6EBPmGU"
      },
      "source": [
        "## Looping di dalam List"
      ]
    },
    {
      "cell_type": "markdown",
      "metadata": {
        "id": "cHHmiQv4bY3C"
      },
      "source": [
        "looping pada list"
      ]
    },
    {
      "cell_type": "code",
      "metadata": {
        "id": "m-2tgYqUbfP3",
        "colab": {
          "base_uri": "https://localhost:8080/"
        },
        "outputId": "cd1ef9cc-e0ae-46da-c17b-b0c9a4cc9837"
      },
      "source": [
        "matkul = [\"fuzzy\", \"pdp\", \"metnum\" , \"graf\"]\n",
        "\n",
        "for x in matkul:\n",
        "  print(x)"
      ],
      "execution_count": null,
      "outputs": [
        {
          "output_type": "stream",
          "text": [
            "fuzzy\n",
            "pdp\n",
            "metnum\n",
            "graf\n"
          ],
          "name": "stdout"
        }
      ]
    },
    {
      "cell_type": "code",
      "metadata": {
        "colab": {
          "base_uri": "https://localhost:8080/"
        },
        "id": "R5K0eJiDJ4ax",
        "outputId": "76fc8e5f-0879-4424-93c0-9a6cfdc35c37"
      },
      "source": [
        "Ferna = [\"cantik\", \"baik\", \"sopan\" , \"ramah\"]\n",
        "\n",
        "for x in Ferna:\n",
        "  print(x)"
      ],
      "execution_count": 20,
      "outputs": [
        {
          "output_type": "stream",
          "text": [
            "cantik\n",
            "baik\n",
            "sopan\n",
            "ramah\n"
          ],
          "name": "stdout"
        }
      ]
    },
    {
      "cell_type": "markdown",
      "metadata": {
        "id": "1O4HrdbWPpm4"
      },
      "source": [
        "## Cek elemen pada List"
      ]
    },
    {
      "cell_type": "markdown",
      "metadata": {
        "id": "cv0aU1cEbvOd"
      },
      "source": [
        "cara mengecek apakah suatu elemen berada dalam list"
      ]
    },
    {
      "cell_type": "code",
      "metadata": {
        "id": "GNNA1lRkcAmT",
        "colab": {
          "base_uri": "https://localhost:8080/"
        },
        "outputId": "377807b3-2c48-4d53-c3d4-7c2102773771"
      },
      "source": [
        "matkul = [\"fuzzy\", \"pdp\", \"metnum\" , \"graf\"]\n",
        "if \"fuzzy\" in matkul:\n",
        "  print('fuzzy termasuk matkul')"
      ],
      "execution_count": null,
      "outputs": [
        {
          "output_type": "stream",
          "text": [
            "fuzzy termasuk matkul\n"
          ],
          "name": "stdout"
        }
      ]
    },
    {
      "cell_type": "code",
      "metadata": {
        "colab": {
          "base_uri": "https://localhost:8080/"
        },
        "id": "NFtxRr-zKM-y",
        "outputId": "41a1a797-28b6-46fc-9cc5-1e351cc89021"
      },
      "source": [
        "Ferna = [\"cantik\", \"baik\", \"sopan\" , \"ramah\"]\n",
        "if \"cantik\" in Ferna:\n",
        "  print('cantik berarti Ferna')"
      ],
      "execution_count": 21,
      "outputs": [
        {
          "output_type": "stream",
          "text": [
            "cantik berarti Ferna\n"
          ],
          "name": "stdout"
        }
      ]
    },
    {
      "cell_type": "markdown",
      "metadata": {
        "id": "uWchVoGNPsvh"
      },
      "source": [
        "## Menghitung jumlah elemen List"
      ]
    },
    {
      "cell_type": "markdown",
      "metadata": {
        "id": "U6CA-4q8cQfC"
      },
      "source": [
        "cara mengetahui jumlah elemen dalam list"
      ]
    },
    {
      "cell_type": "code",
      "metadata": {
        "id": "1ohkG60acYxq",
        "colab": {
          "base_uri": "https://localhost:8080/"
        },
        "outputId": "2c845d51-3878-4cff-cdbd-a5ae55dc632f"
      },
      "source": [
        "matkul = [\"fuzzy\", \"pdp\", \"metnum\" , \"graf\"]\n",
        "print(len(matkul))"
      ],
      "execution_count": null,
      "outputs": [
        {
          "output_type": "stream",
          "text": [
            "4\n"
          ],
          "name": "stdout"
        }
      ]
    },
    {
      "cell_type": "code",
      "metadata": {
        "colab": {
          "base_uri": "https://localhost:8080/"
        },
        "id": "mRwk3P6DKoJJ",
        "outputId": "4f71a42a-11c3-4c37-af17-3a6b57aeff31"
      },
      "source": [
        "Ferna = [\"cantik\", \"baik\", \"sopan\" , \"ramah\"]\n",
        "print(len(Ferna))"
      ],
      "execution_count": 23,
      "outputs": [
        {
          "output_type": "stream",
          "text": [
            "4\n"
          ],
          "name": "stdout"
        }
      ]
    },
    {
      "cell_type": "markdown",
      "metadata": {
        "id": "SXjjDvqYwPWD"
      },
      "source": [
        "# **Berbagai Method untuk List pada Python**"
      ]
    },
    {
      "cell_type": "markdown",
      "metadata": {
        "id": "GW_xJLbPOaPm"
      },
      "source": [
        "## Menambah elemen List"
      ]
    },
    {
      "cell_type": "markdown",
      "metadata": {
        "id": "O85URks5cmkj"
      },
      "source": [
        "cara menambahkan elemen dalam list\n",
        "ada 2 cara untuk menambahkan elemen pada list, yaitu;\n",
        "1. menggunakan metode append()\n",
        "2. menggunakan metode insert()\n"
      ]
    },
    {
      "cell_type": "code",
      "metadata": {
        "id": "nVJEDf96dOfe",
        "colab": {
          "base_uri": "https://localhost:8080/"
        },
        "outputId": "83b083c7-052e-46e1-eb16-c1508e4db002"
      },
      "source": [
        "#metode append : menambahkan elemen pada baris terakhir\n",
        "matkul = [\"fuzzy\", \"pdp\", \"metnum\" , \"graf\"]\n",
        "matkul.append(\"anreg\")\n",
        "print(matkul)"
      ],
      "execution_count": null,
      "outputs": [
        {
          "output_type": "stream",
          "text": [
            "['fuzzy', 'pdp', 'metnum', 'graf', 'anreg']\n"
          ],
          "name": "stdout"
        }
      ]
    },
    {
      "cell_type": "code",
      "metadata": {
        "colab": {
          "base_uri": "https://localhost:8080/"
        },
        "id": "OrSzrzh0K8Lz",
        "outputId": "9add5fc6-3bc0-424a-9206-35ff1cae8d78"
      },
      "source": [
        "ferna = [\"cantik\", \"baik\", \"pinter\" , \"rajin\"]\n",
        "ferna.append(\"perfect banget\")\n",
        "print(ferna)"
      ],
      "execution_count": 24,
      "outputs": [
        {
          "output_type": "stream",
          "text": [
            "['cantik', 'baik', 'pinter', 'rajin', 'perfect banget']\n"
          ],
          "name": "stdout"
        }
      ]
    },
    {
      "cell_type": "code",
      "metadata": {
        "id": "6XrL3bqddhRt",
        "colab": {
          "base_uri": "https://localhost:8080/"
        },
        "outputId": "dfe45b0d-556a-4c7c-b9e2-4121f319c4f8"
      },
      "source": [
        "#metode insert : memasukkan elemen pada baris tertentu\n",
        "matkul = [\"fuzzy\", \"pdp\", \"metnum\" , \"graf\"]\n",
        "matkul.insert(1, 'anriil')\n",
        "print(matkul)"
      ],
      "execution_count": null,
      "outputs": [
        {
          "output_type": "stream",
          "text": [
            "['fuzzy', 'anriil', 'pdp', 'metnum', 'graf']\n"
          ],
          "name": "stdout"
        }
      ]
    },
    {
      "cell_type": "code",
      "metadata": {
        "colab": {
          "base_uri": "https://localhost:8080/"
        },
        "id": "tJXcdYKdLpQP",
        "outputId": "894aaa36-933b-44e1-f4cb-8c2f40f264d6"
      },
      "source": [
        "ferna = [\"cantik\", \"baik\", \"pinter\" , \"rajin\"]\n",
        "ferna.insert(1, 'sopan')\n",
        "print(ferna)"
      ],
      "execution_count": 25,
      "outputs": [
        {
          "output_type": "stream",
          "text": [
            "['cantik', 'sopan', 'baik', 'pinter', 'rajin']\n"
          ],
          "name": "stdout"
        }
      ]
    },
    {
      "cell_type": "markdown",
      "metadata": {
        "id": "whHs8DMhOeyP"
      },
      "source": [
        "## Menghapus elemen List"
      ]
    },
    {
      "cell_type": "markdown",
      "metadata": {
        "id": "QK9-9GhIeE4u"
      },
      "source": [
        "menghapus elemen dalam list\n",
        "ada beberapa cara untuk menghapus elemen\n",
        "1. menggunakan keyword del\n",
        "2. menggunakan metode remove()\n",
        "3. menggunakan metode pop()\n",
        "4. menggunakan metode clear()"
      ]
    },
    {
      "cell_type": "code",
      "metadata": {
        "id": "b9dTvzNrewLA",
        "colab": {
          "base_uri": "https://localhost:8080/"
        },
        "outputId": "0786c407-7649-4281-f8aa-22aa3c97de68"
      },
      "source": [
        "#menggunakan keyword del,(bukan hanya bisa menghapus elemen tapi bisa juga untuk mnghapus list)\n",
        "matkul = [\"fuzzy\", \"pdp\", \"metnum\" , \"graf\"]\n",
        "del matkul[3]\n",
        "print(matkul)\n",
        "matkul1 = [\"fuzzy\", \"pdp\", \"metnum\" , \"graf\"]\n",
        "del matkul"
      ],
      "execution_count": null,
      "outputs": [
        {
          "output_type": "stream",
          "text": [
            "['fuzzy', 'pdp', 'metnum']\n"
          ],
          "name": "stdout"
        }
      ]
    },
    {
      "cell_type": "code",
      "metadata": {
        "colab": {
          "base_uri": "https://localhost:8080/"
        },
        "id": "qWq8pTuuMB92",
        "outputId": "58487018-0cad-4c09-c88b-8c1199ce1424"
      },
      "source": [
        "favorit = [\"drakor\", \"jajan\", \"main\" , \"dia\"]\n",
        "del favorit[3]\n",
        "print(favorit)\n",
        "favorit1 = [\"drakor\", \"jajan\", \"main\" , \"dia\"]\n",
        "del favorit"
      ],
      "execution_count": 27,
      "outputs": [
        {
          "output_type": "stream",
          "text": [
            "['drakor', 'jajan', 'main']\n"
          ],
          "name": "stdout"
        }
      ]
    },
    {
      "cell_type": "code",
      "metadata": {
        "id": "GNVgWlzAe06_",
        "colab": {
          "base_uri": "https://localhost:8080/"
        },
        "outputId": "189cf4b0-9899-4ec1-b4be-3d19cc8c3b71"
      },
      "source": [
        "#menggunakan metode remove(): menggunakan remove() harus menyebutkan nama elemennya langsung\n",
        "matkul = [\"fuzzy\", \"pdp\", \"metnum\" , \"graf\"]\n",
        "matkul.remove(\"fuzzy\")\n",
        "print(matkul)\n"
      ],
      "execution_count": null,
      "outputs": [
        {
          "output_type": "stream",
          "text": [
            "['pdp', 'metnum', 'graf']\n"
          ],
          "name": "stdout"
        }
      ]
    },
    {
      "cell_type": "code",
      "metadata": {
        "colab": {
          "base_uri": "https://localhost:8080/"
        },
        "id": "Z6Aeb9hDM6gU",
        "outputId": "d78cab40-c947-43d4-e060-c533bde7f3cd"
      },
      "source": [
        "favorit = [\"drakor\", \"jajan\", \"main\" , \"dia\"]\n",
        "favorit.remove(\"main\")\n",
        "print(favorit)"
      ],
      "execution_count": 28,
      "outputs": [
        {
          "output_type": "stream",
          "text": [
            "['drakor', 'jajan', 'dia']\n"
          ],
          "name": "stdout"
        }
      ]
    },
    {
      "cell_type": "code",
      "metadata": {
        "colab": {
          "base_uri": "https://localhost:8080/"
        },
        "id": "2j7mKYahM9dl",
        "outputId": "189cf4b0-9899-4ec1-b4be-3d19cc8c3b71"
      },
      "source": [
        "#menggunakan metode remove(): menggunakan remove() harus menyebutkan nama elemennya langsung\n",
        "matkul = [\"fuzzy\", \"pdp\", \"metnum\" , \"graf\"]\n",
        "matkul.remove(\"fuzzy\")\n",
        "print(matkul)\n"
      ],
      "execution_count": null,
      "outputs": [
        {
          "output_type": "stream",
          "text": [
            "['pdp', 'metnum', 'graf']\n"
          ],
          "name": "stdout"
        }
      ]
    },
    {
      "cell_type": "code",
      "metadata": {
        "colab": {
          "base_uri": "https://localhost:8080/"
        },
        "id": "Kit1jBxFNNyR",
        "outputId": "5fed3b5b-b14c-4acc-bc17-0728a2ee9f73"
      },
      "source": [
        "favorit = [\"drakor\", \"jajan\", \"main\" , \"dia\"]\n",
        "favorit.remove(\"jajan\")\n",
        "print(favorit)\n"
      ],
      "execution_count": 29,
      "outputs": [
        {
          "output_type": "stream",
          "text": [
            "['drakor', 'main', 'dia']\n"
          ],
          "name": "stdout"
        }
      ]
    },
    {
      "cell_type": "code",
      "metadata": {
        "id": "R3V2IapIf76i",
        "colab": {
          "base_uri": "https://localhost:8080/"
        },
        "outputId": "7b882328-0e2c-4043-da7a-0ceb30d19964"
      },
      "source": [
        "#menggunakan metode pop(a): menghapus elemen baris ke-a atau baris terakhir\n",
        "matkul = [\"fuzzy\", \"pdp\", \"metnum\" , \"graf\"]\n",
        "matkul.pop(2)\n",
        "matkul.pop()\n",
        "print(matkul) "
      ],
      "execution_count": null,
      "outputs": [
        {
          "output_type": "stream",
          "text": [
            "['fuzzy', 'pdp']\n"
          ],
          "name": "stdout"
        }
      ]
    },
    {
      "cell_type": "markdown",
      "metadata": {
        "id": "aH1_lmpIOLlE"
      },
      "source": [
        ""
      ]
    },
    {
      "cell_type": "code",
      "metadata": {
        "colab": {
          "base_uri": "https://localhost:8080/"
        },
        "id": "qxeJv5s3Nd12",
        "outputId": "c89513c3-0943-4fe8-e87b-ca748d9f5f7b"
      },
      "source": [
        "suka = [\"bakso\", \"sate\", \"cilok\" , \"boba\"]\n",
        "suka.pop(2)\n",
        "suka.pop()\n",
        "print(suka) "
      ],
      "execution_count": 30,
      "outputs": [
        {
          "output_type": "stream",
          "text": [
            "['bakso', 'sate']\n"
          ],
          "name": "stdout"
        }
      ]
    },
    {
      "cell_type": "code",
      "metadata": {
        "id": "IYrhbP_wga_Q",
        "colab": {
          "base_uri": "https://localhost:8080/"
        },
        "outputId": "07a99b59-8f26-43e2-d69e-db45d499f1f4"
      },
      "source": [
        "#menggunakan metode clear(): menghapus seluruh elemen pada list\n",
        "matkul = [\"fuzzy\", \"pdp\", \"metnum\" , \"graf\"]\n",
        "matkul.clear()\n",
        "print(matkul)"
      ],
      "execution_count": null,
      "outputs": [
        {
          "output_type": "stream",
          "text": [
            "[]\n"
          ],
          "name": "stdout"
        }
      ]
    },
    {
      "cell_type": "code",
      "metadata": {
        "colab": {
          "base_uri": "https://localhost:8080/"
        },
        "id": "D8OIV7HWN-P_",
        "outputId": "0a6a887a-e3e4-4d2c-89bf-633faddaa38b"
      },
      "source": [
        "suka = [\"bakso\", \"sate\", \"cilok\" , \"boba\"]\n",
        "suka.clear()\n",
        "print(suka)"
      ],
      "execution_count": 31,
      "outputs": [
        {
          "output_type": "stream",
          "text": [
            "[]\n"
          ],
          "name": "stdout"
        }
      ]
    },
    {
      "cell_type": "markdown",
      "metadata": {
        "id": "Yhka3x5-Oht-"
      },
      "source": [
        "## Mengkopi List"
      ]
    },
    {
      "cell_type": "markdown",
      "metadata": {
        "id": "uIB3DvQYgrJ-"
      },
      "source": [
        "copy list\n",
        "ada 2 cara untuk copy list\n",
        "1. menggunakan metode copy()\n",
        "2. menggunakan metode list()"
      ]
    },
    {
      "cell_type": "code",
      "metadata": {
        "id": "oaTesw-zhFOt",
        "colab": {
          "base_uri": "https://localhost:8080/"
        },
        "outputId": "b9bee49d-1c12-47f0-a2e1-7bd7d5f13d63"
      },
      "source": [
        "#menggunakan metode copy()\n",
        "matkul = [\"fuzzy\", \"pdp\", \"metnum\" , \"graf\"]\n",
        "matlah = matkul.copy()\n",
        "print(matlah)"
      ],
      "execution_count": null,
      "outputs": [
        {
          "output_type": "stream",
          "text": [
            "['fuzzy', 'pdp', 'metnum', 'graf']\n"
          ],
          "name": "stdout"
        }
      ]
    },
    {
      "cell_type": "code",
      "metadata": {
        "colab": {
          "base_uri": "https://localhost:8080/"
        },
        "id": "Mx52tVDFR_r5",
        "outputId": "774b5a44-7d4b-4a6d-b5ba-35590af248e8"
      },
      "source": [
        "aku = [\"kampus\", \"tugas\", \"pusing\" , \"temen\"]\n",
        "me = aku.copy()\n",
        "print(me)"
      ],
      "execution_count": 32,
      "outputs": [
        {
          "output_type": "stream",
          "text": [
            "['kampus', 'tugas', 'pusing', 'temen']\n"
          ],
          "name": "stdout"
        }
      ]
    },
    {
      "cell_type": "code",
      "metadata": {
        "id": "TFz6YhanhWS9",
        "colab": {
          "base_uri": "https://localhost:8080/"
        },
        "outputId": "460fee32-7339-4cbe-daf8-1fd87111c640"
      },
      "source": [
        "#menggunakan metode list()\n",
        "matkul = [\"fuzzy\", \"pdp\", \"metnum\" , \"graf\"]\n",
        "matlah = list(matkul)\n",
        "print(matlah)"
      ],
      "execution_count": null,
      "outputs": [
        {
          "output_type": "stream",
          "text": [
            "['fuzzy', 'pdp', 'metnum', 'graf']\n"
          ],
          "name": "stdout"
        }
      ]
    },
    {
      "cell_type": "code",
      "metadata": {
        "colab": {
          "base_uri": "https://localhost:8080/"
        },
        "id": "SX4vY_kSSzbb",
        "outputId": "b95b0936-ca42-4523-b60c-7995a9124f6d"
      },
      "source": [
        "aku = [\"kampus\", \"tugas\", \"pusing\" , \"temen\"]\n",
        "me = list(aku)\n",
        "print(me)"
      ],
      "execution_count": 33,
      "outputs": [
        {
          "output_type": "stream",
          "text": [
            "['kampus', 'tugas', 'pusing', 'temen']\n"
          ],
          "name": "stdout"
        }
      ]
    },
    {
      "cell_type": "markdown",
      "metadata": {
        "id": "OGdeaa29OpbH"
      },
      "source": [
        "## Menggabung List"
      ]
    },
    {
      "cell_type": "markdown",
      "metadata": {
        "id": "yPxC06ewhjnC"
      },
      "source": [
        "cara menggabungkan 2 list\n",
        "1. menggunakan tanda +\n",
        "2. menggunakan metode append()\n",
        "3. menggunakan metode extend()"
      ]
    },
    {
      "cell_type": "code",
      "metadata": {
        "id": "JGECFOskh8n8",
        "colab": {
          "base_uri": "https://localhost:8080/"
        },
        "outputId": "70013e23-b7a9-480d-d67e-b0f6cabe70dd"
      },
      "source": [
        "#menggnakan tanda +\n",
        "matkul = [\"fuzzy\", \"pdp\", \"metnum\" , \"graf\"]\n",
        "angka = [1, 2, 3, 4]\n",
        "\n",
        "hasil = matkul + angka\n",
        "print(hasil)"
      ],
      "execution_count": null,
      "outputs": [
        {
          "output_type": "stream",
          "text": [
            "['fuzzy', 'pdp', 'metnum', 'graf', 1, 2, 3, 4]\n"
          ],
          "name": "stdout"
        }
      ]
    },
    {
      "cell_type": "code",
      "metadata": {
        "colab": {
          "base_uri": "https://localhost:8080/"
        },
        "id": "Scv8Knc0Ue_C",
        "outputId": "cecf1823-cdb6-452e-eb94-166334ef76e7"
      },
      "source": [
        "ferna = [\"cantik\", \"manis\", \"keren\" , \"pinter\"]\n",
        "angka = [1, 2, 3, 4]\n",
        "\n",
        "hasil = ferna + angka\n",
        "print(hasil)"
      ],
      "execution_count": 37,
      "outputs": [
        {
          "output_type": "stream",
          "text": [
            "['cantik', 'manis', 'keren', 'pinter', 1, 2, 3, 4]\n"
          ],
          "name": "stdout"
        }
      ]
    },
    {
      "cell_type": "code",
      "metadata": {
        "colab": {
          "base_uri": "https://localhost:8080/"
        },
        "id": "FvAo0WRxTQbP",
        "outputId": "5425c170-3680-46a9-e234-4e423243f86c"
      },
      "source": [
        "kamu = [\"semangat\", \"semangat ya\", \"semangat terus\" , \"ayo semangat\"]\n",
        "angka = [1, 2, 3, 4]\n",
        "\n",
        "hasil = kamu + angka\n",
        "print(hasil)"
      ],
      "execution_count": 34,
      "outputs": [
        {
          "output_type": "stream",
          "text": [
            "['semangat', 'semangat ya', 'semangat terus', 'ayo semangat', 1, 2, 3, 4]\n"
          ],
          "name": "stdout"
        }
      ]
    },
    {
      "cell_type": "code",
      "metadata": {
        "id": "EhwfXTCuiL1U",
        "colab": {
          "base_uri": "https://localhost:8080/"
        },
        "outputId": "63b0d9d0-b8a3-4054-9603-1b0ec1b7a5d7"
      },
      "source": [
        "#menggunakan metode append\n",
        "matkul = [\"fuzzy\", \"pdp\", \"metnum\" , \"graf\"]\n",
        "angka = [1, 2, 3, 4]\n",
        "\n",
        "for x in angka:\n",
        "  matkul.append(x)\n",
        "\n",
        "print(matkul)"
      ],
      "execution_count": null,
      "outputs": [
        {
          "output_type": "stream",
          "text": [
            "['fuzzy', 'pdp', 'metnum', 'graf', 1, 2, 3, 4]\n"
          ],
          "name": "stdout"
        }
      ]
    },
    {
      "cell_type": "code",
      "metadata": {
        "colab": {
          "base_uri": "https://localhost:8080/"
        },
        "id": "Zxj2We3MU2nd",
        "outputId": "c39878cb-1a51-4dba-ab47-da7fb37ae84e"
      },
      "source": [
        "ferna = [\"cantik\", \"manis\", \"keren\" , \"pinter\"]\n",
        "angka = [1, 2, 3, 4]\n",
        "\n",
        "for x in angka:\n",
        "  ferna.append(x)\n",
        "\n",
        "print(ferna)"
      ],
      "execution_count": 38,
      "outputs": [
        {
          "output_type": "stream",
          "text": [
            "['cantik', 'manis', 'keren', 'pinter', 1, 2, 3, 4]\n"
          ],
          "name": "stdout"
        }
      ]
    },
    {
      "cell_type": "code",
      "metadata": {
        "colab": {
          "base_uri": "https://localhost:8080/"
        },
        "id": "vF5h6aBeTxN9",
        "outputId": "5c32439d-abd6-434e-f505-04c3415c3570"
      },
      "source": [
        "kamu = [\"semangat\", \"semangat ya\", \"semangat terus\" , \"ayo semangat\"]\n",
        "angka = [1, 2, 3, 4]\n",
        "\n",
        "for x in angka:\n",
        "  kamu.append(x)\n",
        "\n",
        "print(kamu)"
      ],
      "execution_count": 35,
      "outputs": [
        {
          "output_type": "stream",
          "text": [
            "['semangat', 'semangat ya', 'semangat terus', 'ayo semangat', 1, 2, 3, 4]\n"
          ],
          "name": "stdout"
        }
      ]
    },
    {
      "cell_type": "code",
      "metadata": {
        "id": "JW9IRHnYii9F",
        "colab": {
          "base_uri": "https://localhost:8080/"
        },
        "outputId": "83f6701f-dbb6-4e00-c703-851567669736"
      },
      "source": [
        "#menggunakan metode extend\n",
        "matkul = [\"fuzzy\", \"pdp\", \"metnum\" , \"graf\"]\n",
        "angka = [1, 2, 3, 4]\n",
        "\n",
        "matkul.extend(angka)\n",
        "print(matkul)"
      ],
      "execution_count": null,
      "outputs": [
        {
          "output_type": "stream",
          "text": [
            "['fuzzy', 'pdp', 'metnum', 'graf', 1, 2, 3, 4]\n"
          ],
          "name": "stdout"
        }
      ]
    },
    {
      "cell_type": "code",
      "metadata": {
        "colab": {
          "base_uri": "https://localhost:8080/"
        },
        "id": "qGZIwbPmVQBd",
        "outputId": "24f608bf-2a95-47a9-801b-fa6c863f0e50"
      },
      "source": [
        "ferna = [\"cantik\", \"manis\", \"keren\" , \"pinter\"]\n",
        "angka = [1, 2, 3, 4]\n",
        "\n",
        "ferna.extend(angka)\n",
        "print(ferna)"
      ],
      "execution_count": 39,
      "outputs": [
        {
          "output_type": "stream",
          "text": [
            "['cantik', 'manis', 'keren', 'pinter', 1, 2, 3, 4]\n"
          ],
          "name": "stdout"
        }
      ]
    },
    {
      "cell_type": "code",
      "metadata": {
        "colab": {
          "base_uri": "https://localhost:8080/"
        },
        "id": "IRAM2NDxUD1k",
        "outputId": "4c74db3a-ada1-4631-8272-725888c2aa4b"
      },
      "source": [
        "kamu = [\"semangat\", \"semangat ya\", \"semangat terus\" , \"ayo semangat\"]\n",
        "angka = [1, 2, 3, 4]\n",
        "\n",
        "kamu.extend(angka)\n",
        "print(kamu)"
      ],
      "execution_count": 36,
      "outputs": [
        {
          "output_type": "stream",
          "text": [
            "['semangat', 'semangat ya', 'semangat terus', 'ayo semangat', 1, 2, 3, 4]\n"
          ],
          "name": "stdout"
        }
      ]
    },
    {
      "cell_type": "markdown",
      "metadata": {
        "id": "K-85e962443K"
      },
      "source": [
        "# **String pada Python**\n"
      ]
    },
    {
      "cell_type": "markdown",
      "metadata": {
        "id": "3U8ND-Ft5ZII"
      },
      "source": [
        "## *String Literals*\n",
        "####String literal dalam python diapit oleh tanda kutip tunggal, atau tanda kutip ganda\n",
        "####'Buku' = \"Buku\" dalam python ini sama saja\n",
        "####Anda dapat menampilkan literal string dengan fungsi print ():\n"
      ]
    },
    {
      "cell_type": "code",
      "metadata": {
        "id": "StGvS-Ey1bLX",
        "colab": {
          "base_uri": "https://localhost:8080/"
        },
        "outputId": "7258184b-796b-47c1-cff9-083fa07eb605"
      },
      "source": [
        "#Contoh :\n",
        "print(\"Hello\")\n",
        "print('Hello')"
      ],
      "execution_count": null,
      "outputs": [
        {
          "output_type": "stream",
          "text": [
            "Hello\n",
            "Hello\n"
          ],
          "name": "stdout"
        }
      ]
    },
    {
      "cell_type": "markdown",
      "metadata": {
        "id": "-aatCBuO95wP"
      },
      "source": [
        "Expected output:\n",
        "```\n",
        "Hello\n",
        "Hello\n",
        "```"
      ]
    },
    {
      "cell_type": "code",
      "metadata": {
        "id": "E7xhLyI_D5dE",
        "colab": {
          "base_uri": "https://localhost:8080/"
        },
        "outputId": "0dd32735-5980-477c-99be-53434566d73b"
      },
      "source": [
        "#Mulai Program mu....^_^\n",
        "print(\"assalamualaikum \")\n",
        "print('assalamualaikum')"
      ],
      "execution_count": 40,
      "outputs": [
        {
          "output_type": "stream",
          "text": [
            "assalamualaikum \n",
            "assalamualaikum\n"
          ],
          "name": "stdout"
        }
      ]
    },
    {
      "cell_type": "markdown",
      "metadata": {
        "id": "uW2Ii3iL9Fbb"
      },
      "source": [
        "## *Assign String to a Variable*\n",
        "####Menetapkan string ke variabel dilakukan dengan nama variabel diikuti dengan tanda sama dengan dan stringnya:"
      ]
    },
    {
      "cell_type": "code",
      "metadata": {
        "id": "HPvNIIOv93Uj",
        "colab": {
          "base_uri": "https://localhost:8080/"
        },
        "outputId": "2a40e336-4be9-48b7-8929-8da620ab9e76"
      },
      "source": [
        "#Contoh\n",
        "a = \"Hello\"\n",
        "print(a)"
      ],
      "execution_count": null,
      "outputs": [
        {
          "output_type": "stream",
          "text": [
            "Hello\n"
          ],
          "name": "stdout"
        }
      ]
    },
    {
      "cell_type": "markdown",
      "metadata": {
        "id": "Rgf7Zdk2-cma"
      },
      "source": [
        "Expected output:\n",
        "```\n",
        "Hello\n",
        "```\n",
        "Penjelasan :\n",
        "a adalah variabel\n",
        "kemudian diikuti tanda samadengan =\n",
        "kemudian masukkan nilai berupa string yaitu \"Hello\""
      ]
    },
    {
      "cell_type": "code",
      "metadata": {
        "id": "XnW_XFWCEU_Y",
        "colab": {
          "base_uri": "https://localhost:8080/"
        },
        "outputId": "e09c9150-8dd1-4c70-ee6d-fa6df948cb25"
      },
      "source": [
        "#Mulai Program mu....^_^\n",
        "\n",
        "a = \"Good morning\"\n",
        "print(a)"
      ],
      "execution_count": 41,
      "outputs": [
        {
          "output_type": "stream",
          "text": [
            "Good morning\n"
          ],
          "name": "stdout"
        }
      ]
    },
    {
      "cell_type": "markdown",
      "metadata": {
        "id": "eYAdwdwp_o_M"
      },
      "source": [
        "## *Multiline Strings*\n",
        "####Kita dapat menetapkan string multiline ke variabel dengan menggunakan tiga tanda kutip:"
      ]
    },
    {
      "cell_type": "code",
      "metadata": {
        "id": "KqKBqkEFAv-e",
        "colab": {
          "base_uri": "https://localhost:8080/"
        },
        "outputId": "450ee287-a057-453e-abe0-cc96ecaef5a1"
      },
      "source": [
        "#Contoh 1\n",
        "a = '''PSDS adalah kelompok studi Data Science\n",
        "yang dibentuk oleh mahasiswa\n",
        "program studi Matematika.'''\n",
        "print(a)"
      ],
      "execution_count": null,
      "outputs": [
        {
          "output_type": "stream",
          "text": [
            "PSDS adalah kelompok studi Data Science\n",
            "yang dibentuk oleh mahasiswa\n",
            "program studi Matematika.\n"
          ],
          "name": "stdout"
        }
      ]
    },
    {
      "cell_type": "markdown",
      "metadata": {
        "id": "HoKPF7srDzRN"
      },
      "source": [
        "Expected output:\n",
        "```\n",
        "PSDS adalah kelompok studi Data Science\n",
        "yang dibentuk oleh mahasiswa\n",
        "program studi Matematika.\n",
        "\n",
        "```"
      ]
    },
    {
      "cell_type": "code",
      "metadata": {
        "id": "VowpERdPEsQJ",
        "colab": {
          "base_uri": "https://localhost:8080/"
        },
        "outputId": "23454a4a-d590-4f52-aa91-86f93ec749af"
      },
      "source": [
        "#Mulai Program mu....^_^\n",
        "\n",
        "a = '''semakin hukum matematika menunjukan realitas, menjadi  semakin tidak pasti,\n",
        " semakin pasti, semakin tidak menunjukan realitas.'''\n",
        "print(a)\n"
      ],
      "execution_count": 5,
      "outputs": [
        {
          "output_type": "stream",
          "text": [
            "semakin hukum matematika menunjukan realitas, menjadi  semakin tidak pasti,\n",
            " semakin pasti, semakin tidak menunjukan realitas.\n"
          ],
          "name": "stdout"
        }
      ]
    },
    {
      "cell_type": "markdown",
      "metadata": {
        "id": "lTmDSoYcB0Gb"
      },
      "source": [
        "Kita bisa juga menggunakan double tanda kutip, misal : ```\"\"\"stringnya\"\"\"```"
      ]
    },
    {
      "cell_type": "code",
      "metadata": {
        "id": "SJRPjO1PBNZF",
        "colab": {
          "base_uri": "https://localhost:8080/"
        },
        "outputId": "b24f3623-5a21-4e08-84ad-20141a541536"
      },
      "source": [
        "#Contoh 2\n",
        "a = \"\"\"PSDS adalah kelompok studi Data Science\n",
        "yang dibentuk oleh mahasiswa\n",
        "program studi Matematika.\"\"\"\n",
        "print(a)\n",
        "#Hasilnya, jeda baris disisipkan pada posisi yang sama seperti pada kode."
      ],
      "execution_count": null,
      "outputs": [
        {
          "output_type": "stream",
          "text": [
            "PSDS adalah kelompok studi Data Science\n",
            "yang dibentuk oleh mahasiswa\n",
            "program studi Matematika.\n"
          ],
          "name": "stdout"
        }
      ]
    },
    {
      "cell_type": "markdown",
      "metadata": {
        "id": "Sy-1uZquD-02"
      },
      "source": [
        "Expected output:\n",
        "```\n",
        "PSDS adalah kelompok studi Data Science\n",
        "yang dibentuk oleh mahasiswa\n",
        "program studi Matematika.\n",
        "```\n",
        "\n",
        "Penjelasan : jeda baris disisipkan pada posisi yang sama seperti pada kode."
      ]
    },
    {
      "cell_type": "code",
      "metadata": {
        "id": "-vth3zQNFEZ3",
        "colab": {
          "base_uri": "https://localhost:8080/"
        },
        "outputId": "67ad6796-4599-4ae5-8c56-16f308d0fdf4"
      },
      "source": [
        "#Mulai Program mu....^_^\n",
        "\"\"\"semakin hukum matematika menunjukan realitas, menjadi  semakin tidak pasti,\n",
        " semakin pasti, semakin tidak menunjukan realitas.\"\"\"\n",
        "print(a)\n",
        "\n"
      ],
      "execution_count": 6,
      "outputs": [
        {
          "output_type": "stream",
          "text": [
            "semakin hukum matematika menunjukan realitas, menjadi  semakin tidak pasti,\n",
            " semakin pasti, semakin tidak menunjukan realitas.\n"
          ],
          "name": "stdout"
        }
      ]
    },
    {
      "cell_type": "markdown",
      "metadata": {
        "id": "XQLfbQFQEVmu"
      },
      "source": [
        "## *Strings are Arrays*\n",
        "####Seperti banyak bahasa pemrograman populer lainnya, string dalam Python adalah array byte yang mewakili karakter unicode.\n",
        "####Namun, Python tidak memiliki tipe data karakter, satu karakter hanyalah string dengan panjang 1\n",
        "####Tanda kurung siku dapat digunakan untuk mengakses elemen string."
      ]
    },
    {
      "cell_type": "code",
      "metadata": {
        "id": "VqY0-8FUCPBf",
        "colab": {
          "base_uri": "https://localhost:8080/"
        },
        "outputId": "f6acd2d8-3b95-451a-9405-8c4aa972ed30"
      },
      "source": [
        "#Contoh\n",
        "a = \"Hello, World!\"\n",
        "print(a[1])"
      ],
      "execution_count": null,
      "outputs": [
        {
          "output_type": "stream",
          "text": [
            "e\n"
          ],
          "name": "stdout"
        }
      ]
    },
    {
      "cell_type": "markdown",
      "metadata": {
        "id": "nPN1G_m9GhQZ"
      },
      "source": [
        "Expected output:\n",
        "```\n",
        "e\n",
        "```\n",
        "Penjelasan : Dapatkan karakter di posisi 1 (ingat bahwa karakter pertama memiliki posisi 0):\n",
        "\n"
      ]
    },
    {
      "cell_type": "code",
      "metadata": {
        "id": "8t036hewYZzW",
        "colab": {
          "base_uri": "https://localhost:8080/"
        },
        "outputId": "613f885b-d998-4371-f7fd-1b3e985b3320"
      },
      "source": [
        "#Mulai Program mu....^_^\n",
        "a = \"Hallo you!\"\n",
        "print(a[1])\n"
      ],
      "execution_count": 42,
      "outputs": [
        {
          "output_type": "stream",
          "text": [
            "a\n"
          ],
          "name": "stdout"
        }
      ]
    },
    {
      "cell_type": "markdown",
      "metadata": {
        "id": "vagnEyfWHADQ"
      },
      "source": [
        "## *Slicing*\n",
        "####Anda dapat mengembalikan berbagai karakter dengan menggunakan sintaksis slice.\n",
        "####Tentukan indeks awal dan indeks akhir, dipisahkan oleh titik dua, untuk mengembalikan bagian dari string."
      ]
    },
    {
      "cell_type": "code",
      "metadata": {
        "id": "kvukrxjxIN1s",
        "colab": {
          "base_uri": "https://localhost:8080/"
        },
        "outputId": "ada41307-0965-4d88-8f39-07356b0e0525"
      },
      "source": [
        "#Contoh :\n",
        "b = \"Hello, World!\"\n",
        "print(b[2:5])\n",
        "#Dapatkan karakter dari posisi 2 ke posisi 5 (tidak termasuk):"
      ],
      "execution_count": 11,
      "outputs": [
        {
          "output_type": "stream",
          "text": [
            "llo\n"
          ],
          "name": "stdout"
        }
      ]
    },
    {
      "cell_type": "markdown",
      "metadata": {
        "id": "tvz7WZHdKQgH"
      },
      "source": [
        "Expected output:\n",
        "```\n",
        "llo\n",
        "```"
      ]
    },
    {
      "cell_type": "code",
      "metadata": {
        "id": "M4geTGseYgmQ",
        "colab": {
          "base_uri": "https://localhost:8080/",
          "height": 129
        },
        "outputId": "91b18599-2b57-41b5-ff6f-ad78aabf0ca2"
      },
      "source": [
        "#Mulai Program mu....^_^\n",
        " b = \"Hello, YOU!\"\n",
        "print(b[2:5])"
      ],
      "execution_count": 47,
      "outputs": [
        {
          "output_type": "error",
          "ename": "IndentationError",
          "evalue": "ignored",
          "traceback": [
            "\u001b[0;36m  File \u001b[0;32m\"<ipython-input-47-a68ecc9b0a3c>\"\u001b[0;36m, line \u001b[0;32m2\u001b[0m\n\u001b[0;31m    b = \"Hello, YOU!\"\u001b[0m\n\u001b[0m    ^\u001b[0m\n\u001b[0;31mIndentationError\u001b[0m\u001b[0;31m:\u001b[0m unexpected indent\n"
          ]
        }
      ]
    },
    {
      "cell_type": "markdown",
      "metadata": {
        "id": "2LQPMzQAKilR"
      },
      "source": [
        "## *Negative Indexing*\n",
        "Gunakan indeks negatif untuk memulai potongan dari ujung string:"
      ]
    },
    {
      "cell_type": "code",
      "metadata": {
        "id": "n2yD3tJ4LG93",
        "colab": {
          "base_uri": "https://localhost:8080/"
        },
        "outputId": "95976fc5-4f9e-4ce3-8405-479f5920503f"
      },
      "source": [
        "#Contoh\n",
        "b = \"Hello, World!\"\n",
        "print(b[-5:-2])\n",
        "#Dapatkan karakter dari posisi 5 ke posisi 1 (tidak termasuk), mulai hitungan dari akhir string:"
      ],
      "execution_count": null,
      "outputs": [
        {
          "output_type": "stream",
          "text": [
            "orl\n"
          ],
          "name": "stdout"
        }
      ]
    },
    {
      "cell_type": "markdown",
      "metadata": {
        "id": "nlzaUPw2Mkwr"
      },
      "source": [
        "Expected output:\n",
        "```\n",
        "orl\n",
        "```"
      ]
    },
    {
      "cell_type": "code",
      "metadata": {
        "id": "InprXyehZUUk",
        "colab": {
          "base_uri": "https://localhost:8080/"
        },
        "outputId": "d9ccd1e6-aee1-4c64-b896-8a9b5cac4ff1"
      },
      "source": [
        "#Mulai Program mu....^_^\n",
        "b = \"you and only you!\"\n",
        "print(b[-5:-2])\n"
      ],
      "execution_count": 48,
      "outputs": [
        {
          "output_type": "stream",
          "text": [
            " yo\n"
          ],
          "name": "stdout"
        }
      ]
    },
    {
      "cell_type": "code",
      "metadata": {
        "id": "A7Z1cnl2ekma",
        "colab": {
          "base_uri": "https://localhost:8080/"
        },
        "outputId": "42d1012d-229a-485e-ae00-cb485fcb718c"
      },
      "source": [
        "#Contoh\n",
        "a = \"Hello, World!\"\n",
        "print(len(a))\n",
        "#Fungsi len () mengembalikan panjang string:"
      ],
      "execution_count": null,
      "outputs": [
        {
          "output_type": "stream",
          "text": [
            "13\n"
          ],
          "name": "stdout"
        }
      ]
    },
    {
      "cell_type": "markdown",
      "metadata": {
        "id": "I7o2xNSJpQxD"
      },
      "source": [
        "Expected Output :\n",
        "```\n",
        "13\n",
        "```"
      ]
    },
    {
      "cell_type": "code",
      "metadata": {
        "id": "-axqRlaqZY8x",
        "colab": {
          "base_uri": "https://localhost:8080/"
        },
        "outputId": "52eb7548-01c3-4e9a-f632-d92867160a46"
      },
      "source": [
        "#Mulai Program mu....^_^\n",
        "lv = \"Hello, Mr M!\"\n",
        "print(len(a))\n"
      ],
      "execution_count": 49,
      "outputs": [
        {
          "output_type": "stream",
          "text": [
            "10\n"
          ],
          "name": "stdout"
        }
      ]
    },
    {
      "cell_type": "markdown",
      "metadata": {
        "id": "kIXBHAk3f_KI"
      },
      "source": [
        "## *Check String*\n",
        "Untuk memeriksa apakah frase atau karakter tertentu ada dalam sebuah string, kita dapat menggunakan kata kunci in atau not in"
      ]
    },
    {
      "cell_type": "code",
      "metadata": {
        "id": "aHqLK3vHfzQS",
        "colab": {
          "base_uri": "https://localhost:8080/"
        },
        "outputId": "9086378c-64cc-4a97-ae19-2b7e6c67a7b1"
      },
      "source": [
        "#Contoh 1\n",
        "#Periksa apakah frase \"ain\" ada dalam teks berikut:\n",
        "txt = \"Hujan di Spanyol umumnya tetap di dataran\"\n",
        "x = \"jan\" in txt\n",
        "print(x)"
      ],
      "execution_count": null,
      "outputs": [
        {
          "output_type": "stream",
          "text": [
            "True\n"
          ],
          "name": "stdout"
        }
      ]
    },
    {
      "cell_type": "markdown",
      "metadata": {
        "id": "EvjnqufLpcwD"
      },
      "source": [
        "Expected Output :\n",
        "```\n",
        "True\n",
        "```"
      ]
    },
    {
      "cell_type": "code",
      "metadata": {
        "id": "oXIdUm4lZk0b",
        "colab": {
          "base_uri": "https://localhost:8080/"
        },
        "outputId": "20fab986-8abf-47d8-b38e-7f4cf5828c7c"
      },
      "source": [
        "#Mulai Program mu....^_^\n",
        "txt = \"matematika itu indah banget ya\"\n",
        "x = \"tem\" in txt\n",
        "print(x)\n",
        "\n"
      ],
      "execution_count": 50,
      "outputs": [
        {
          "output_type": "stream",
          "text": [
            "True\n"
          ],
          "name": "stdout"
        }
      ]
    },
    {
      "cell_type": "code",
      "metadata": {
        "id": "fgyz-8kHgiC8",
        "colab": {
          "base_uri": "https://localhost:8080/"
        },
        "outputId": "77686e1f-a308-47e7-9419-7aa5b33f2dab"
      },
      "source": [
        "#Contoh\n",
        "#Periksa apakah frase \"ain\" TIDAK ada dalam teks berikut:\n",
        "txt = \"Hujan di Spanyol umumnya tetap di dataran\"\n",
        "x = \"jan\" not in txt\n",
        "print(x) "
      ],
      "execution_count": null,
      "outputs": [
        {
          "output_type": "stream",
          "text": [
            "False\n"
          ],
          "name": "stdout"
        }
      ]
    },
    {
      "cell_type": "markdown",
      "metadata": {
        "id": "gEzY_18PplCV"
      },
      "source": [
        "Expected Output :\n",
        "```\n",
        "False\n",
        "```"
      ]
    },
    {
      "cell_type": "code",
      "metadata": {
        "id": "3xsC0rt2ZrPa",
        "colab": {
          "base_uri": "https://localhost:8080/"
        },
        "outputId": "ec4e25e3-7154-4d03-f4af-9be094d1f152"
      },
      "source": [
        "#Mulai Program mu....^_^\n",
        "txt = \"matematika itu indah banget ya\"\n",
        "x = \"tem\" not in txt\n",
        "print(x) \n",
        "\n"
      ],
      "execution_count": 51,
      "outputs": [
        {
          "output_type": "stream",
          "text": [
            "False\n"
          ],
          "name": "stdout"
        }
      ]
    },
    {
      "cell_type": "markdown",
      "metadata": {
        "id": "whJkJ80wg4ri"
      },
      "source": [
        "## *String Concatenation*\n",
        "Untuk menggabungkan, atau menggabungkan, dua string Anda dapat menggunakan operator +."
      ]
    },
    {
      "cell_type": "code",
      "metadata": {
        "id": "KcheDEPZhEUn",
        "colab": {
          "base_uri": "https://localhost:8080/"
        },
        "outputId": "53d9a386-6864-4ce1-8494-2ae482e60a1b"
      },
      "source": [
        "#Contoh\n",
        "#Gabungkan variabel a dengan variabel b menjadi variabel c\n",
        "a = \"Hello\"\n",
        "b = \"World\"\n",
        "c = a + b\n",
        "print(c)"
      ],
      "execution_count": null,
      "outputs": [
        {
          "output_type": "stream",
          "text": [
            "HelloWorld\n"
          ],
          "name": "stdout"
        }
      ]
    },
    {
      "cell_type": "markdown",
      "metadata": {
        "id": "yzB_x6uvsgIx"
      },
      "source": [
        "Output :\n",
        "```\n",
        "HelloWorld\n",
        "```"
      ]
    },
    {
      "cell_type": "code",
      "metadata": {
        "id": "G0GMGTBgZ-f6",
        "colab": {
          "base_uri": "https://localhost:8080/"
        },
        "outputId": "4fe0ada1-2d3c-4c84-dc65-73ae036ec849"
      },
      "source": [
        "#Mulai Program mu....^_^\n",
        "a = \"Hello\"\n",
        "b = \"Mr m\"\n",
        "c = a + b\n",
        "print(c)\n",
        "\n",
        "\n"
      ],
      "execution_count": 52,
      "outputs": [
        {
          "output_type": "stream",
          "text": [
            "HelloMr m\n"
          ],
          "name": "stdout"
        }
      ]
    },
    {
      "cell_type": "code",
      "metadata": {
        "id": "_WYRHkRthc-y",
        "colab": {
          "base_uri": "https://localhost:8080/"
        },
        "outputId": "75577c13-0a42-4a69-e3bc-825e2e14e21f"
      },
      "source": [
        "#Contoh\n",
        "#Untuk menambahkan spasi di antara keduanya, tambahkan \" \":\n",
        "a = \"Hello\"\n",
        "b = \"World\"\n",
        "c = a + \" \" + b\n",
        "print(c)"
      ],
      "execution_count": null,
      "outputs": [
        {
          "output_type": "stream",
          "text": [
            "Hello World\n"
          ],
          "name": "stdout"
        }
      ]
    },
    {
      "cell_type": "markdown",
      "metadata": {
        "id": "UgWS9_39stHi"
      },
      "source": [
        "Output :\n",
        "```\n",
        "Hello World\n",
        "```"
      ]
    },
    {
      "cell_type": "code",
      "metadata": {
        "id": "tgMo3eBoaE5r",
        "colab": {
          "base_uri": "https://localhost:8080/"
        },
        "outputId": "ddeda628-c1ea-44f1-f73f-47be335bda22"
      },
      "source": [
        "#Mulai Program mu....\n",
        "a = \"Hello\"\n",
        "b = \"Mr m fighting\"\n",
        "c = a + \" \" + b\n",
        "print(c)\n",
        "\n"
      ],
      "execution_count": 53,
      "outputs": [
        {
          "output_type": "stream",
          "text": [
            "Hello Mr m fighting\n"
          ],
          "name": "stdout"
        }
      ]
    },
    {
      "cell_type": "markdown",
      "metadata": {
        "id": "4Fhyimgde2Mn"
      },
      "source": [
        "##**String Format**\n",
        "####Seperti yang kita pelajari di bab Variabel Python, kita tidak bisa menggabungkan string dan angka seperti ini:"
      ]
    },
    {
      "cell_type": "code",
      "metadata": {
        "id": "7L6XBNLejHsT",
        "colab": {
          "base_uri": "https://localhost:8080/"
        },
        "outputId": "2199a578-5a7f-4d90-9c77-fa8afb64d772"
      },
      "source": [
        "#Contoh\n",
        "umur = \"20\"\n",
        "txt = \"Nama saya Mujhid, saya \" + umur\n",
        "print(txt)"
      ],
      "execution_count": null,
      "outputs": [
        {
          "output_type": "stream",
          "text": [
            "Nama saya Mujhid, saya 20\n"
          ],
          "name": "stdout"
        }
      ]
    },
    {
      "cell_type": "code",
      "metadata": {
        "colab": {
          "base_uri": "https://localhost:8080/"
        },
        "id": "x_D_I5BFZZWc",
        "outputId": "91a2e3e4-759e-41c4-918c-cecd03a83e43"
      },
      "source": [
        "f = \"hai\"\n",
        "txt = \"Mujhid \" + f\n",
        "print(txt)"
      ],
      "execution_count": 54,
      "outputs": [
        {
          "output_type": "stream",
          "text": [
            "Mujhid hai\n"
          ],
          "name": "stdout"
        }
      ]
    },
    {
      "cell_type": "markdown",
      "metadata": {
        "id": "IyDYFm-5s4w8"
      },
      "source": [
        "Output :\n",
        "```\n",
        "Nama saya Mujhid, saya 20\n",
        "```"
      ]
    },
    {
      "cell_type": "markdown",
      "metadata": {
        "id": "xMzqxUejkZrt"
      },
      "source": [
        "Tapi kita bisa menggabungkan string dan angka dengan menggunakan metode format ()!\n",
        "\n",
        "Metode format () mengambil argumen yang diteruskan, memformatnya, dan menempatkannya dalam string di mana placeholder {} berada:"
      ]
    },
    {
      "cell_type": "markdown",
      "metadata": {
        "id": "-7gLLgzqe2Mx"
      },
      "source": [
        "# *Berbagai Method untuk String pada Python*\n",
        "\n",
        "Python memiliki seperangkat metode bawaan yang dapat Anda gunakan pada string."
      ]
    },
    {
      "cell_type": "markdown",
      "metadata": {
        "id": "P8NnekdTGMh9"
      },
      "source": [
        "### Strip()\n",
        "\n",
        "Method strip() berfungsi untuk menghapus spasi apa pun dari awal atau akhir"
      ]
    },
    {
      "cell_type": "code",
      "metadata": {
        "id": "adhHBCCIfCRV",
        "colab": {
          "base_uri": "https://localhost:8080/"
        },
        "outputId": "be4158e1-c9ea-4ca3-af38-669508461bc7"
      },
      "source": [
        "#Contoh\n",
        "a = \" Hello, World! \"\n",
        "print(a.strip()) # returns \"Hello, World!\""
      ],
      "execution_count": null,
      "outputs": [
        {
          "output_type": "stream",
          "text": [
            "Hello, World!\n"
          ],
          "name": "stdout"
        }
      ]
    },
    {
      "cell_type": "markdown",
      "metadata": {
        "id": "Qeo6pBGotbxk"
      },
      "source": [
        "Output :\n",
        "```\n",
        "Hello, World!\n",
        "```"
      ]
    },
    {
      "cell_type": "code",
      "metadata": {
        "id": "bnhTYGQEAytD",
        "colab": {
          "base_uri": "https://localhost:8080/"
        },
        "outputId": "3ceaf00e-dc8f-4e07-ca0a-e1251f4b2dba"
      },
      "source": [
        "#Mulai Program Mu....\n",
        "a = \" Good morning everyone, fighting! \"\n",
        "print(a.strip()) # returns \"Hello, World!\"\n"
      ],
      "execution_count": 55,
      "outputs": [
        {
          "output_type": "stream",
          "text": [
            "Good morning everyone, fighting!\n"
          ],
          "name": "stdout"
        }
      ]
    },
    {
      "cell_type": "markdown",
      "metadata": {
        "id": "y-DOox5dndFL"
      },
      "source": [
        "###Lower()\n",
        "#####Metode lower () mengembalikan string dalam huruf kecil:"
      ]
    },
    {
      "cell_type": "code",
      "metadata": {
        "id": "D_ST04cMewvV",
        "colab": {
          "base_uri": "https://localhost:8080/"
        },
        "outputId": "55e3744e-6307-4763-832f-3a094337b431"
      },
      "source": [
        "#Contoh\n",
        "a = \"HELLO, World!\"\n",
        "print(a.lower())"
      ],
      "execution_count": null,
      "outputs": [
        {
          "output_type": "stream",
          "text": [
            "hello, world!\n"
          ],
          "name": "stdout"
        }
      ]
    },
    {
      "cell_type": "code",
      "metadata": {
        "colab": {
          "base_uri": "https://localhost:8080/"
        },
        "id": "G_CfosObaPoz",
        "outputId": "80df5504-ca12-4a63-bc8b-0026dfd7bcf4"
      },
      "source": [
        " a = \" Good morning everyone, fighting! \"\n",
        "print(a.lower())"
      ],
      "execution_count": 56,
      "outputs": [
        {
          "output_type": "stream",
          "text": [
            " good morning everyone, fighting! \n"
          ],
          "name": "stdout"
        }
      ]
    },
    {
      "cell_type": "markdown",
      "metadata": {
        "id": "4rtfR-MQtv1z"
      },
      "source": [
        "Output :\n",
        "```\n",
        "hello, world!\n",
        "```"
      ]
    },
    {
      "cell_type": "markdown",
      "metadata": {
        "id": "goEziMRaop2n"
      },
      "source": [
        "###Upper()\n",
        "#####Metode upper() mengembalikan string dalam huruf besar:"
      ]
    },
    {
      "cell_type": "code",
      "metadata": {
        "id": "tORVzIurfiyq",
        "colab": {
          "base_uri": "https://localhost:8080/"
        },
        "outputId": "791a726a-3de2-413f-f489-7984ba6e3548"
      },
      "source": [
        "#Contoh\n",
        "a = \"Hello, World!\"\n",
        "print(a.upper())"
      ],
      "execution_count": null,
      "outputs": [
        {
          "output_type": "stream",
          "text": [
            "HELLO, WORLD!\n"
          ],
          "name": "stdout"
        }
      ]
    },
    {
      "cell_type": "code",
      "metadata": {
        "colab": {
          "base_uri": "https://localhost:8080/"
        },
        "id": "Rp4BtnY-ahwE",
        "outputId": "d788c44c-f1e9-4f2b-c589-7b5befbeb2c4"
      },
      "source": [
        "a = \" Good morning everyone, fighting! \"\n",
        "print(a.upper())"
      ],
      "execution_count": 57,
      "outputs": [
        {
          "output_type": "stream",
          "text": [
            " GOOD MORNING EVERYONE, FIGHTING! \n"
          ],
          "name": "stdout"
        }
      ]
    },
    {
      "cell_type": "markdown",
      "metadata": {
        "id": "1d7SQJ3zt6M-"
      },
      "source": [
        "Output :\n",
        "```\n",
        "HELLO, WORLD!\n",
        "```"
      ]
    },
    {
      "cell_type": "markdown",
      "metadata": {
        "id": "p_8BudcBuNRK"
      },
      "source": [
        "###Replace()\n",
        "#####Metode replace () menggantikan string dengan string lain:"
      ]
    },
    {
      "cell_type": "code",
      "metadata": {
        "id": "KRCtERX-fsRL",
        "colab": {
          "base_uri": "https://localhost:8080/"
        },
        "outputId": "25ba4862-89c1-4db1-a36d-8229e185d50e"
      },
      "source": [
        "#Contoh\n",
        "a = \"Hello, World!\"\n",
        "print(a.replace(\"H\", \"J\"))"
      ],
      "execution_count": null,
      "outputs": [
        {
          "output_type": "stream",
          "text": [
            "Jello, World!\n"
          ],
          "name": "stdout"
        }
      ]
    },
    {
      "cell_type": "code",
      "metadata": {
        "colab": {
          "base_uri": "https://localhost:8080/"
        },
        "id": "6kjJvT3Aaxzj",
        "outputId": "2880f841-f15c-492c-f0cf-bc62e4ebaf73"
      },
      "source": [
        "a = \"Good morning everyone,fighting! \"\n",
        "print(a.replace(\"H\", \"J\"))"
      ],
      "execution_count": 59,
      "outputs": [
        {
          "output_type": "stream",
          "text": [
            "Good morning everyone,fighting! \n"
          ],
          "name": "stdout"
        }
      ]
    },
    {
      "cell_type": "markdown",
      "metadata": {
        "id": "HoBM7TssuDC0"
      },
      "source": [
        "Output :\n",
        "```\n",
        "Jello, World!\n",
        "```"
      ]
    },
    {
      "cell_type": "markdown",
      "metadata": {
        "id": "HENcWNGouzZQ"
      },
      "source": [
        "###Split()\n",
        "#####Metode split () membagi string menjadi beberapa substring jika menemukan contoh pemisah:"
      ]
    },
    {
      "cell_type": "code",
      "metadata": {
        "id": "lZOPF8zNfzUz",
        "colab": {
          "base_uri": "https://localhost:8080/"
        },
        "outputId": "3d5cb1a1-f7df-47e9-f20a-b8adbd244ac4"
      },
      "source": [
        "#Contoh\n",
        "a = \"Hello, World!\"\n",
        "print(a.split(\",\")) # returns ['Hello', ' World!']"
      ],
      "execution_count": null,
      "outputs": [
        {
          "output_type": "stream",
          "text": [
            "['Hello', ' World!']\n"
          ],
          "name": "stdout"
        }
      ]
    },
    {
      "cell_type": "code",
      "metadata": {
        "colab": {
          "base_uri": "https://localhost:8080/"
        },
        "id": "fQWDr1aQbUTD",
        "outputId": "45bd44cc-e1c5-4671-8ed6-280ff1a8e0ca"
      },
      "source": [
        "a = \"Hello, Mr m !\"\n",
        "print(a.split(\",\")) # returns ['Hello', ' World!']"
      ],
      "execution_count": 60,
      "outputs": [
        {
          "output_type": "stream",
          "text": [
            "['Hello', ' Mr m !']\n"
          ],
          "name": "stdout"
        }
      ]
    },
    {
      "cell_type": "markdown",
      "metadata": {
        "id": "7nCtdk1Du-m8"
      },
      "source": [
        "Output :\n",
        "```\n",
        "['Hello', ' World!']\n",
        "```"
      ]
    },
    {
      "cell_type": "markdown",
      "metadata": {
        "id": "TaxVOjwbvc6k"
      },
      "source": [
        "###Capitalize()\n",
        "#####Metode capitalize () menggantikan karakter pertama menjadi huruf apital"
      ]
    },
    {
      "cell_type": "code",
      "metadata": {
        "id": "AKCjwL5pu6uA",
        "colab": {
          "base_uri": "https://localhost:8080/"
        },
        "outputId": "47e59737-d699-4919-8f85-5806242ba29a"
      },
      "source": [
        "#Contoh\n",
        "a = \"hello, world\"\n",
        "print(a.capitalize())"
      ],
      "execution_count": null,
      "outputs": [
        {
          "output_type": "stream",
          "text": [
            "Hello, world\n"
          ],
          "name": "stdout"
        }
      ]
    },
    {
      "cell_type": "code",
      "metadata": {
        "colab": {
          "base_uri": "https://localhost:8080/"
        },
        "id": "zA7mb6_5bjOI",
        "outputId": "27f95abe-8c01-4e64-a114-be49075e9c94"
      },
      "source": [
        "a = \"Hello, Mr m !\"\n",
        "print(a.capitalize())"
      ],
      "execution_count": 61,
      "outputs": [
        {
          "output_type": "stream",
          "text": [
            "Hello, mr m !\n"
          ],
          "name": "stdout"
        }
      ]
    },
    {
      "cell_type": "markdown",
      "metadata": {
        "id": "2aTzRqgzwcd-"
      },
      "source": [
        "Output :\n",
        "```\n",
        "Hello, world\n",
        "```"
      ]
    },
    {
      "cell_type": "markdown",
      "metadata": {
        "id": "lFk8jkgTw7Qc"
      },
      "source": [
        "###Casefold()\n",
        "#####Metode casefold () Mengubah string menjadi huruf kecil"
      ]
    },
    {
      "cell_type": "code",
      "metadata": {
        "id": "rqUVI0_QwQ9M",
        "colab": {
          "base_uri": "https://localhost:8080/"
        },
        "outputId": "c1e88684-63c3-4dfe-bbec-34fad0c107b8"
      },
      "source": [
        "#Contoh\n",
        "a = \"Hello, World\"\n",
        "print(a.casefold())"
      ],
      "execution_count": null,
      "outputs": [
        {
          "output_type": "stream",
          "text": [
            "hello, world\n"
          ],
          "name": "stdout"
        }
      ]
    },
    {
      "cell_type": "code",
      "metadata": {
        "colab": {
          "base_uri": "https://localhost:8080/"
        },
        "id": "vYSgNENLbtTG",
        "outputId": "637abd47-59fd-4f61-e321-8f5ea526151a"
      },
      "source": [
        "a = \"Hello, Mr m !\"\n",
        "print(a.casefold())"
      ],
      "execution_count": 62,
      "outputs": [
        {
          "output_type": "stream",
          "text": [
            "hello, mr m !\n"
          ],
          "name": "stdout"
        }
      ]
    },
    {
      "cell_type": "markdown",
      "metadata": {
        "id": "uOJqg_Hhx7jM"
      },
      "source": [
        "###Count()\n",
        "#####Metode count () Mengembalikan frekuensi nilai yang ditentukan muncul dalam string"
      ]
    },
    {
      "cell_type": "code",
      "metadata": {
        "id": "X0BxqrG6zC3j",
        "colab": {
          "base_uri": "https://localhost:8080/"
        },
        "outputId": "e210ca57-02fa-4888-a6c5-9495ff3f2ce0"
      },
      "source": [
        "# definiskan string\n",
        "string = \"Python is awesome, isn't it?\"\n",
        "substring = \"is\"\n",
        "\n",
        "count = string.count(substring)\n",
        "\n",
        "# print count\n",
        "print(\"Jumlah :\", count)"
      ],
      "execution_count": null,
      "outputs": [
        {
          "output_type": "stream",
          "text": [
            "Jumlah : 2\n"
          ],
          "name": "stdout"
        }
      ]
    },
    {
      "cell_type": "code",
      "metadata": {
        "colab": {
          "base_uri": "https://localhost:8080/"
        },
        "id": "kS0j-pzDb9y9",
        "outputId": "17caa8ee-1f3c-4386-972d-02435935763d"
      },
      "source": [
        "string = \"you are so awesome, cool and mysterious \"\n",
        "substring = \"so\"\n",
        "\n",
        "count = string.count(substring)\n",
        "\n",
        "# print count\n",
        "print(\"Jumlah :\", count)"
      ],
      "execution_count": 63,
      "outputs": [
        {
          "output_type": "stream",
          "text": [
            "Jumlah : 2\n"
          ],
          "name": "stdout"
        }
      ]
    },
    {
      "cell_type": "markdown",
      "metadata": {
        "id": "c-107cVfCt-f"
      },
      "source": [
        "Output :\n",
        "```\n",
        "Jumlah : 2\n",
        "```"
      ]
    },
    {
      "cell_type": "markdown",
      "metadata": {
        "id": "TK1BWNfmNmg9"
      },
      "source": [
        "###Encode()\n",
        "#####Metode encode () mengembalikan string yang berada di tengah"
      ]
    },
    {
      "cell_type": "code",
      "metadata": {
        "id": "Z3vdoZsq76n7",
        "colab": {
          "base_uri": "https://localhost:8080/"
        },
        "outputId": "0eb582a8-7e15-40c9-d544-722c923e7767"
      },
      "source": [
        "a = \"My name is Mujhid\"\n",
        "\n",
        "x = a.encode()\n",
        "\n",
        "print(x)"
      ],
      "execution_count": null,
      "outputs": [
        {
          "output_type": "stream",
          "text": [
            "b'My name is Mujhid'\n"
          ],
          "name": "stdout"
        }
      ]
    },
    {
      "cell_type": "code",
      "metadata": {
        "colab": {
          "base_uri": "https://localhost:8080/"
        },
        "id": "j--SVhDncw8P",
        "outputId": "6b16fd4e-abcc-4256-9782-7063cd23938b"
      },
      "source": [
        "a = \"lets get closer\"\n",
        "\n",
        "x = a.encode()\n",
        "\n",
        "print(x)"
      ],
      "execution_count": 64,
      "outputs": [
        {
          "output_type": "stream",
          "text": [
            "b'lets get closer'\n"
          ],
          "name": "stdout"
        }
      ]
    },
    {
      "cell_type": "markdown",
      "metadata": {
        "id": "qPgAcs3q03rJ"
      },
      "source": [
        "###Swapcase()\n",
        "#####Metode swapcase () untuk menukar kasus, huruf kecil menjadi huruf besar dan sebaliknya"
      ]
    },
    {
      "cell_type": "code",
      "metadata": {
        "id": "1aogmteyOBqW",
        "colab": {
          "base_uri": "https://localhost:8080/"
        },
        "outputId": "a691aedf-701f-49f8-b5a0-bc283d98d8f3"
      },
      "source": [
        "a = \"My Name is Mujhid\"\n",
        "\n",
        "x = a.swapcase()\n",
        "\n",
        "print(x)"
      ],
      "execution_count": null,
      "outputs": [
        {
          "output_type": "stream",
          "text": [
            "mY nAME IS mUJHID\n"
          ],
          "name": "stdout"
        }
      ]
    },
    {
      "cell_type": "code",
      "metadata": {
        "colab": {
          "base_uri": "https://localhost:8080/"
        },
        "id": "mAyauEPJdSSS",
        "outputId": "a870383d-4d77-407f-9b86-49c2c64aabf1"
      },
      "source": [
        "a = \"lets get closer\"\n",
        "x = a.swapcase()\n",
        "\n",
        "print(x)"
      ],
      "execution_count": 65,
      "outputs": [
        {
          "output_type": "stream",
          "text": [
            "LETS GET CLOSER\n"
          ],
          "name": "stdout"
        }
      ]
    },
    {
      "cell_type": "markdown",
      "metadata": {
        "id": "NygjfmV-GP04"
      },
      "source": [
        "Output :\n",
        "```\n",
        "mY nAME IS mUJHID\n",
        "```"
      ]
    },
    {
      "cell_type": "markdown",
      "metadata": {
        "id": "1bnoscP55UBZ"
      },
      "source": [
        "\n",
        "\n",
        "---\n",
        "\n",
        "\n",
        "# **Dictionary Pada Python**\n",
        "\n",
        "\n",
        "---\n",
        "\n",
        "\n",
        "Berbeda dengan List dan Tuple, didalam Dictionary Python setiap urutanya berisi key dan value yang bersifat tidak berurutan. \n",
        "1. Setiap key dipisahkan dari value-nya oleh titik dua (:)\n",
        "2. item dipisahkan oleh koma, dan semuanya tertutup dalam kurung kurawal. \n",
        "3. Dictionary kosong tanpa barang ditulis hanya dengan dua kurung kurawal, seperti ini: {}."
      ]
    },
    {
      "cell_type": "markdown",
      "metadata": {
        "id": "Qqi7EOUv8QlF"
      },
      "source": [
        "**Contoh 1:**\n"
      ]
    },
    {
      "cell_type": "code",
      "metadata": {
        "id": "9frE3t3c-VL5",
        "colab": {
          "base_uri": "https://localhost:8080/"
        },
        "outputId": "8c36d665-ffa2-445f-e30e-6ec7cc821b93"
      },
      "source": [
        "dict= {'Universitas' : 'UAD' , 'Prodi' : 'Matematika' , 'Tahun' : 2018 , 'NIM' : 180015065}\n",
        "print(type(dict))"
      ],
      "execution_count": null,
      "outputs": [
        {
          "output_type": "stream",
          "text": [
            "<class 'dict'>\n"
          ],
          "name": "stdout"
        }
      ]
    },
    {
      "cell_type": "markdown",
      "metadata": {
        "id": "cpN9v_hTCQ6w"
      },
      "source": [
        "Yuk coba buat dictionary kamu :)"
      ]
    },
    {
      "cell_type": "code",
      "metadata": {
        "id": "XGAZx3QiCWtQ",
        "colab": {
          "base_uri": "https://localhost:8080/"
        },
        "outputId": "15abc78f-77f5-40e5-f719-45e762454911"
      },
      "source": [
        "#Membuat directory\n",
        "dict= {'Universitas' : 'UAD' , 'Prodi' : 'Matematika' , 'Tahun' : 2018 , 'NIM' : 180015008}\n",
        "print(type(dict))"
      ],
      "execution_count": 68,
      "outputs": [
        {
          "output_type": "stream",
          "text": [
            "<class 'dict'>\n"
          ],
          "name": "stdout"
        }
      ]
    },
    {
      "cell_type": "markdown",
      "metadata": {
        "id": "wiTUsNTSAq-f"
      },
      "source": [
        "## Mengakses Nilai pada Dictionary\n",
        "Untuk mengakses elemen Dictionary, dapat menggunakan kurung siku yang berisi key ['key'] untuk mendapatkan value yang diinginkan."
      ]
    },
    {
      "cell_type": "code",
      "metadata": {
        "id": "B7K8CmX4BxV6",
        "colab": {
          "base_uri": "https://localhost:8080/"
        },
        "outputId": "e2d2fdf5-78a6-4823-a066-27121e9627d7"
      },
      "source": [
        "dict= {'Universitas' : 'UAD' , 'Prodi' : 'Matematika' , 'Tahun' : 2018 , 1800015065 : 'NIM'}\n",
        "print(type(dict))\n",
        "print(\"dict['Universitas'] = \", dict['Universitas'])\n",
        "print(\"dict['Prodi'] =\", dict['Prodi'])\n",
        "print(\"dict['Tahun'] =\", dict['Tahun'])\n",
        "print(\"dict[1800015065] = \", dict[1800015065])"
      ],
      "execution_count": null,
      "outputs": [
        {
          "output_type": "stream",
          "text": [
            "<class 'dict'>\n",
            "dict['Universitas'] =  UAD\n",
            "dict['Prodi'] = Matematika\n",
            "dict['Tahun'] = 2018\n",
            "dict[1800015065] =  NIM\n"
          ],
          "name": "stdout"
        }
      ]
    },
    {
      "cell_type": "markdown",
      "metadata": {
        "id": "0Ko2w5YXCeUH"
      },
      "source": [
        "Nah sekarang coba akses nilai di dictionary kamu, go go go"
      ]
    },
    {
      "cell_type": "code",
      "metadata": {
        "id": "zMOqnpFtCtBc",
        "colab": {
          "base_uri": "https://localhost:8080/"
        },
        "outputId": "57227cfb-a5a8-4616-8a01-8e522fd03d3e"
      },
      "source": [
        "#Mengakses nilai directory\n",
        "dict= {'Universitas' : 'UAD' , 'Prodi' : 'Matematika' , 'Tahun' : 2018 , 1800015008 : 'NIM'}\n",
        "print(type(dict))\n",
        "print(\"dict['Universitas'] = \", dict['Universitas'])\n",
        "print(\"dict['Prodi'] =\", dict['Prodi'])\n",
        "print(\"dict['Tahun'] =\", dict['Tahun'])\n",
        "print(\"dict[1800015008] = \", dict[1800015008])\n"
      ],
      "execution_count": 71,
      "outputs": [
        {
          "output_type": "stream",
          "text": [
            "<class 'dict'>\n",
            "dict['Universitas'] =  UAD\n",
            "dict['Prodi'] = Matematika\n",
            "dict['Tahun'] = 2018\n",
            "dict[1800015008] =  NIM\n"
          ],
          "name": "stdout"
        }
      ]
    },
    {
      "cell_type": "markdown",
      "metadata": {
        "id": "UzGJBTYWF9Wz"
      },
      "source": [
        "## Mengubah Nilai pada Dictionary\n",
        "Anda dapat memperbarui Dictionary dengan menambahkan entri baru atau pasangan nilai kunci, memodifikasi entri yang ada, atau menghapus entri yang ada"
      ]
    },
    {
      "cell_type": "code",
      "metadata": {
        "id": "ZkMuE6xJGGzq",
        "colab": {
          "base_uri": "https://localhost:8080/"
        },
        "outputId": "40e656c1-928c-42c8-a22d-3ffd160a8e68"
      },
      "source": [
        "dict= {'Universitas' : 'UAD' , 'Prodi' : 'Matematika' , 'Tahun' : 2018 , 1800015065 : 'NIM'}\n",
        "dict[1800015065] = 'Bukan NIM' #Mengubah entri atau value yang sudah ada\n",
        "dict['Universitas'] = 'UGM' #Menambah entri atau value\n",
        "print(\"dict[1800015065] =\", dict[1800015065]);\n",
        "print(\"dict['Universitas'] =\", dict['Universitas']);"
      ],
      "execution_count": null,
      "outputs": [
        {
          "output_type": "stream",
          "text": [
            "dict[1800015065] = Bukan NIM\n",
            "dict['Universitas'] = UGM\n"
          ],
          "name": "stdout"
        }
      ]
    },
    {
      "cell_type": "code",
      "metadata": {
        "colab": {
          "base_uri": "https://localhost:8080/"
        },
        "id": "m_vJfPy8g-86",
        "outputId": "3e95c669-64bc-4094-f626-be8388d06d5e"
      },
      "source": [
        "dict= {'Universitas' : 'UAD' , 'Prodi' : 'Matematika' , 'Tahun' : 2018 , 1800015008 : 'NIM'}\n",
        "dict[1800015008] = 'NIM' #Mengubah entri atau value yang sudah ada\n",
        "dict['Universitas'] = 'UAD' #Menambah entri atau value\n",
        "print(\"dict[1800015008] =\", dict[1800015008]);\n",
        "print(\"dict['Universitas'] =\", dict['Universitas']);"
      ],
      "execution_count": 76,
      "outputs": [
        {
          "output_type": "stream",
          "text": [
            "dict[1800015008] = NIM\n",
            "dict['Universitas'] = UAD\n"
          ],
          "name": "stdout"
        }
      ]
    },
    {
      "cell_type": "code",
      "metadata": {
        "id": "vX3rYRdjL6GF",
        "colab": {
          "base_uri": "https://localhost:8080/"
        },
        "outputId": "706810e1-55f4-4194-eb49-216110e43755"
      },
      "source": [
        "thisdict = {\n",
        "    \"brand\" : \"Toyota\",\n",
        "    \"model\" : \"Kijang\",\n",
        "    \"year\" : 2004\n",
        "}\n",
        "print(thisdict)"
      ],
      "execution_count": null,
      "outputs": [
        {
          "output_type": "stream",
          "text": [
            "{'brand': 'Toyota', 'model': 'Kijang', 'year': 2004}\n"
          ],
          "name": "stdout"
        }
      ]
    },
    {
      "cell_type": "code",
      "metadata": {
        "colab": {
          "base_uri": "https://localhost:8080/"
        },
        "id": "W8_qoXrUhQRs",
        "outputId": "7c0bcee4-fd57-401e-ed83-ed571c96172a"
      },
      "source": [
        "thisdict = {\n",
        "    \"brand\" : \"Gucci\",\n",
        "    \"brand ambassador\" : \"ferna\",\n",
        "    \"year\" : 2021\n",
        "}\n",
        "print(thisdict)"
      ],
      "execution_count": 73,
      "outputs": [
        {
          "output_type": "stream",
          "text": [
            "{'brand': 'Gucci', 'brand ambassador': 'ferna', 'year': 2021}\n"
          ],
          "name": "stdout"
        }
      ]
    },
    {
      "cell_type": "markdown",
      "metadata": {
        "id": "47jIA7JvC2sL"
      },
      "source": [
        "Sekarang sudah tau kan kalo nilai dictionary bisa diubah dan kalian sudah paham kan gimana ngubahnya, yuk dicoba dulu biar makin paham :)"
      ]
    },
    {
      "cell_type": "code",
      "metadata": {
        "id": "1gGuQpm1DPSN",
        "colab": {
          "base_uri": "https://localhost:8080/"
        },
        "outputId": "6f54a079-cde4-4ca9-9cef-f424053886ce"
      },
      "source": [
        "#Mengubah nilai directory\n",
        "dict= {'Universitas' : 'UAD' , 'Prodi' : 'Matematika' , 'Tahun' : 2018 , 1800015008 : 'NIM'}\n",
        "dict[1800015008] = ' NIM' #Mengubah entri atau value yang sudah ada\n",
        "dict['Universitas'] = 'UAD' #Menambah entri atau value\n",
        "print(\"dict[1800015008] =\", dict[1800015008]);\n",
        "print(\"dict['Universitas'] =\", dict['Universitas']);"
      ],
      "execution_count": 75,
      "outputs": [
        {
          "output_type": "stream",
          "text": [
            "dict[1800015008] =  NIM\n",
            "dict['Universitas'] = UAD\n"
          ],
          "name": "stdout"
        }
      ]
    },
    {
      "cell_type": "markdown",
      "metadata": {
        "id": "hBFir8xVLg5o"
      },
      "source": [
        "## Loop Melalui Dictionary\n",
        "\n",
        "Pada bagian Pengulangan melalui Dictionary, kita dapat melakukan Loop(Pengulangan) melalui Dictionary dengan menggunakan **for** loop.\n",
        "\n",
        "Saat melakukan pengulangan melalui Dictionary, nilai yang dikembalikan adalah kunci dari Dictionary, tetapi terdapat metode untuk mengembalikan nilai\n",
        "\n",
        "Sebagai contoh :\n",
        "Print semua nama kunci dalam Dictionary satu per satu"
      ]
    },
    {
      "cell_type": "code",
      "metadata": {
        "id": "EsK_xCfaMBwW",
        "colab": {
          "base_uri": "https://localhost:8080/"
        },
        "outputId": "04df7287-22e5-4121-9d75-b81f62a28cf4"
      },
      "source": [
        "for x in thisdict:\n",
        "  print(x)"
      ],
      "execution_count": null,
      "outputs": [
        {
          "output_type": "stream",
          "text": [
            "brand\n",
            "model\n",
            "year\n"
          ],
          "name": "stdout"
        }
      ]
    },
    {
      "cell_type": "code",
      "metadata": {
        "colab": {
          "base_uri": "https://localhost:8080/"
        },
        "id": "iBiSvRt7i4do",
        "outputId": "8d8a8427-602a-4572-fc69-7f70333d1f0b"
      },
      "source": [
        "for x in thisdict:\n",
        "  print(x)"
      ],
      "execution_count": 77,
      "outputs": [
        {
          "output_type": "stream",
          "text": [
            "brand\n",
            "brand ambassador\n",
            "year\n"
          ],
          "name": "stdout"
        }
      ]
    },
    {
      "cell_type": "markdown",
      "metadata": {
        "id": "vBPM3O_CMHmd"
      },
      "source": [
        "**Contoh 2:**\n",
        "\n",
        "Print semua *nilai* dalam Dictionary satu per satu"
      ]
    },
    {
      "cell_type": "code",
      "metadata": {
        "id": "zC1X4W8_MMDf",
        "colab": {
          "base_uri": "https://localhost:8080/"
        },
        "outputId": "3e8d41a4-b1d9-4ebe-dab9-052b8620d612"
      },
      "source": [
        "for x in thisdict:\n",
        "  print(thisdict[x])"
      ],
      "execution_count": null,
      "outputs": [
        {
          "output_type": "stream",
          "text": [
            "Toyota\n",
            "Kijang\n",
            "2004\n"
          ],
          "name": "stdout"
        }
      ]
    },
    {
      "cell_type": "code",
      "metadata": {
        "colab": {
          "base_uri": "https://localhost:8080/"
        },
        "id": "Q_3jEfhci-o6",
        "outputId": "79343d50-1b88-4edc-bcc3-352afee9192c"
      },
      "source": [
        "for x in thisdict:\n",
        "  print(thisdict[x])"
      ],
      "execution_count": 78,
      "outputs": [
        {
          "output_type": "stream",
          "text": [
            "Gucci\n",
            "ferna\n",
            "2021\n"
          ],
          "name": "stdout"
        }
      ]
    },
    {
      "cell_type": "markdown",
      "metadata": {
        "id": "CTX8JbrdMQHG"
      },
      "source": [
        "**Contoh 3:**\n",
        "\n",
        "Kita juga dapat menggunakan **values()** yang merupakan metode untuk mengembalikan nilai Dictionary"
      ]
    },
    {
      "cell_type": "code",
      "metadata": {
        "id": "P4sF4NJwMVKi",
        "colab": {
          "base_uri": "https://localhost:8080/"
        },
        "outputId": "e1c3221b-cd21-4e2e-b6fa-924ededae1f3"
      },
      "source": [
        "for x in thisdict.values():\n",
        "  print(x)"
      ],
      "execution_count": null,
      "outputs": [
        {
          "output_type": "stream",
          "text": [
            "Toyota\n",
            "Kijang\n",
            "2004\n"
          ],
          "name": "stdout"
        }
      ]
    },
    {
      "cell_type": "code",
      "metadata": {
        "colab": {
          "base_uri": "https://localhost:8080/"
        },
        "id": "6XWrv1QyjDUv",
        "outputId": "de2049e0-63f2-45b5-83f9-0bb8293fdfd5"
      },
      "source": [
        "for x in thisdict.values():\n",
        "  print(x)"
      ],
      "execution_count": 79,
      "outputs": [
        {
          "output_type": "stream",
          "text": [
            "Gucci\n",
            "ferna\n",
            "2021\n"
          ],
          "name": "stdout"
        }
      ]
    },
    {
      "cell_type": "markdown",
      "metadata": {
        "id": "Vw6KRxXUMYdk"
      },
      "source": [
        "**Contoh 4:**\n",
        "\n",
        "Ulangi kedua kunci dan nilai, dengan menggunakan metode **items()**:"
      ]
    },
    {
      "cell_type": "code",
      "metadata": {
        "id": "R0LHvTdCMciA",
        "colab": {
          "base_uri": "https://localhost:8080/"
        },
        "outputId": "6f922b5b-ce70-4242-dd28-f5dcbb2e69ca"
      },
      "source": [
        "for x, y in thisdict.items():\n",
        "  print(x, y)"
      ],
      "execution_count": null,
      "outputs": [
        {
          "output_type": "stream",
          "text": [
            "brand Toyota\n",
            "model Kijang\n",
            "year 2004\n"
          ],
          "name": "stdout"
        }
      ]
    },
    {
      "cell_type": "code",
      "metadata": {
        "colab": {
          "base_uri": "https://localhost:8080/"
        },
        "id": "jjtMRCAEjLcQ",
        "outputId": "6902f2f1-4174-424d-ca15-eca1093fc683"
      },
      "source": [
        "for x, y in thisdict.items():\n",
        "  print(x, y)"
      ],
      "execution_count": 80,
      "outputs": [
        {
          "output_type": "stream",
          "text": [
            "brand Gucci\n",
            "brand ambassador ferna\n",
            "year 2021\n"
          ],
          "name": "stdout"
        }
      ]
    },
    {
      "cell_type": "markdown",
      "metadata": {
        "id": "PLi6zJNRDjpd"
      },
      "source": [
        "Di atas sudah diberikan contoh loop melalui directory menggunakan berbagai cara, sekarang kalian coba biar makin paham"
      ]
    },
    {
      "cell_type": "code",
      "metadata": {
        "id": "k2wcRN_8EAJX",
        "colab": {
          "base_uri": "https://localhost:8080/"
        },
        "outputId": "1c76181a-3789-487d-9bad-76a0a4c2cf81"
      },
      "source": [
        "#Loop Melalui Directory\n",
        "\n",
        "for x, y in thisdict.items():\n",
        "  print(x, y)"
      ],
      "execution_count": 81,
      "outputs": [
        {
          "output_type": "stream",
          "text": [
            "brand Gucci\n",
            "brand ambassador ferna\n",
            "year 2021\n"
          ],
          "name": "stdout"
        }
      ]
    },
    {
      "cell_type": "markdown",
      "metadata": {
        "id": "xT7pJUjFMi_B"
      },
      "source": [
        "## Mengecek keanggotaan suatu key\n",
        "Untuk menentukan apakah kunci tertentu ada dalam Dictionary gunakan **in** sebagai kunci"
      ]
    },
    {
      "cell_type": "markdown",
      "metadata": {
        "id": "naFLmYYzMtOp"
      },
      "source": [
        "**Contoh 6:**\n",
        "\n",
        "Cek jika \"model\" terdapat pada Dictionary"
      ]
    },
    {
      "cell_type": "code",
      "metadata": {
        "id": "8flzqPCTMvAm",
        "colab": {
          "base_uri": "https://localhost:8080/"
        },
        "outputId": "b50ff53b-01c3-46fb-f775-fff4757e5591"
      },
      "source": [
        "thisdict = {\n",
        "    \"brand\" : \"Toyota\",\n",
        "    \"model\" : \"Kijang\",\n",
        "    \"tahun\" : 2004\n",
        "}\n",
        "if \"model\" in thisdict :\n",
        "  print(\"Yes, 'model' adalah salah satu dari kunci dalam distict dictionary\")"
      ],
      "execution_count": null,
      "outputs": [
        {
          "output_type": "stream",
          "text": [
            "Yes, 'model' adalah salah satu dari kunci dalam distict dictionary\n"
          ],
          "name": "stdout"
        }
      ]
    },
    {
      "cell_type": "code",
      "metadata": {
        "id": "GQrj8PgpjcLv"
      },
      "source": [
        "thisdict = {\n",
        "    \"brand\" : \"GUCCI\",\n",
        "    \"brand ambassador\" : \"ferna\",\n",
        "    \"tahun\" : 2021\n",
        "}\n",
        "if \"model\" in thisdict :\n",
        "  print(\"Yes, 'model' adalah salah satu dari kunci dalam distict dictionary\")"
      ],
      "execution_count": 83,
      "outputs": []
    },
    {
      "cell_type": "markdown",
      "metadata": {
        "id": "IUOIUwOYEQuR"
      },
      "source": [
        "Sekarang kalian coba deh cek keanggotaan suatu key yang ada di dictionary kalian, siapa tahu bukan merupakan anggota kan, bisa jadi penyusup xixixi"
      ]
    },
    {
      "cell_type": "code",
      "metadata": {
        "id": "K85KcpLaEsBH",
        "colab": {
          "base_uri": "https://localhost:8080/"
        },
        "outputId": "fdf359af-8d69-49d8-c055-831fe368480b"
      },
      "source": [
        "#Mengecek keanggotaan suatu key\n",
        "thisdict = {\n",
        "    \"brand\" : \"GUCCI\",\n",
        "    \"brand ambassador\" : \"ferna\",\n",
        "    \"tahun\" : 2021\n",
        "}\n",
        "if \"brand ambassador\" in thisdict :\n",
        "  print(\"Yes, 'brand ambassador' adalah salah satu dari kunci dalam distict dictionary\")\n"
      ],
      "execution_count": 85,
      "outputs": [
        {
          "output_type": "stream",
          "text": [
            "Yes, 'brand ambassador' adalah salah satu dari kunci dalam distict dictionary\n"
          ],
          "name": "stdout"
        }
      ]
    },
    {
      "cell_type": "markdown",
      "metadata": {
        "id": "NeXUQXjZOBOv"
      },
      "source": [
        "## Menambah Item"
      ]
    },
    {
      "cell_type": "markdown",
      "metadata": {
        "id": "-DeukrFUOOJ2"
      },
      "source": [
        "Untuk menambahkan item, kita dapat menggunakan kunci index baru dengan langsung memberikan nilainya. Untuk contohnya, bisa dilihat kode di bawah ini yaa :)"
      ]
    },
    {
      "cell_type": "code",
      "metadata": {
        "id": "pCnst7TaOPOE",
        "colab": {
          "base_uri": "https://localhost:8080/"
        },
        "outputId": "07d03012-e3cb-47bb-a2af-6ab6e7bf85f6"
      },
      "source": [
        "thisdict = {'Name': 'Zara', 'Age': 7, 'Class': 'First'}\n",
        "\n",
        "thisdict['School'] = \"DPS School\" # Menambah entri baru pada thisdict\n",
        "\n",
        "print (thisdict)"
      ],
      "execution_count": null,
      "outputs": [
        {
          "output_type": "stream",
          "text": [
            "{'Name': 'Zara', 'Age': 7, 'Class': 'First', 'School': 'DPS School'}\n"
          ],
          "name": "stdout"
        }
      ]
    },
    {
      "cell_type": "code",
      "metadata": {
        "colab": {
          "base_uri": "https://localhost:8080/"
        },
        "id": "eYvbnW1ekhz-",
        "outputId": "89d625f0-703d-4688-b421-4c3230ada981"
      },
      "source": [
        "thisdict = {'Nama': 'Ferna', 'Umur': 20, 'Univ': 'UAD'}\n",
        "\n",
        "thisdict['jurusan'] = \"matematika\" # Menambah entri baru pada thisdict\n",
        "\n",
        "print (thisdict)"
      ],
      "execution_count": 86,
      "outputs": [
        {
          "output_type": "stream",
          "text": [
            "{'Nama': 'Ferna', 'Umur': 20, 'Univ': 'UAD', 'jurusan': 'matematika'}\n"
          ],
          "name": "stdout"
        }
      ]
    },
    {
      "cell_type": "markdown",
      "metadata": {
        "id": "5mHe4zJJOaFJ"
      },
      "source": [
        "Selain menggunakan format di atas, untuk menambahkan item kita juga bisa menggunakan method update()."
      ]
    },
    {
      "cell_type": "code",
      "metadata": {
        "id": "P3ODwqpeObGi",
        "colab": {
          "base_uri": "https://localhost:8080/"
        },
        "outputId": "56b5b888-38c8-4dfc-9ea9-e2161a55aa70"
      },
      "source": [
        "thisdict = {'Name': 'Zara', 'Age': 7, 'Class': 'First'}\n",
        "\n",
        "thisdict.update({\"School\": \"DPS School\"}) #Menambah item baru pada thisdict\n",
        "\n",
        "print(thisdict)"
      ],
      "execution_count": null,
      "outputs": [
        {
          "output_type": "stream",
          "text": [
            "{'Name': 'Zara', 'Age': 7, 'Class': 'First', 'School': 'DPS School'}\n"
          ],
          "name": "stdout"
        }
      ]
    },
    {
      "cell_type": "code",
      "metadata": {
        "colab": {
          "base_uri": "https://localhost:8080/"
        },
        "id": "bYcvgqvyk_Zq",
        "outputId": "f4cfead5-083d-40ab-f314-faec07ccb15d"
      },
      "source": [
        "thisdict = {'Nama': 'Ferna', 'Umur': 20, 'Univ': 'UAD'}\n",
        "thisdict.update({\"School\": \"DPS School\"}) #Menambah item baru pada thisdict\n",
        "\n",
        "print(thisdict)\n"
      ],
      "execution_count": 87,
      "outputs": [
        {
          "output_type": "stream",
          "text": [
            "{'Nama': 'Ferna', 'Umur': 20, 'Univ': 'UAD', 'School': 'DPS School'}\n"
          ],
          "name": "stdout"
        }
      ]
    },
    {
      "cell_type": "markdown",
      "metadata": {
        "id": "vES-HR3hE0-f"
      },
      "source": [
        "Nah iya nih dalam menambah item baru pada dictionary bisa dilakukan dengan 2 cara, menurut kalian mudah yang mana, dicoba dulu biar tahu rasanya hohoho"
      ]
    },
    {
      "cell_type": "code",
      "metadata": {
        "id": "ORxfmwHgFCwT",
        "colab": {
          "base_uri": "https://localhost:8080/"
        },
        "outputId": "4937c249-9ac8-4dae-b98b-8e884527ec8e"
      },
      "source": [
        "#Menambah item baru pada dictionary\n",
        "thisdict = {'Nama': 'Ferna', 'Umur': 20, 'Univ': 'UAD'}\n",
        "thisdict.update({\"School\": \"DPS School\"}) #Menambah item baru pada thisdict\n",
        "\n",
        "print(thisdict)\n"
      ],
      "execution_count": 88,
      "outputs": [
        {
          "output_type": "stream",
          "text": [
            "{'Nama': 'Ferna', 'Umur': 20, 'Univ': 'UAD', 'School': 'DPS School'}\n"
          ],
          "name": "stdout"
        }
      ]
    },
    {
      "cell_type": "markdown",
      "metadata": {
        "id": "UztNPpTNOjkS"
      },
      "source": [
        "## Menghapus Item"
      ]
    },
    {
      "cell_type": "markdown",
      "metadata": {
        "id": "ZrrLJx6SOlQF"
      },
      "source": [
        "Untuk menghapus item yang ada pada Dictionary, kita bisa menggunakan perintah del, method pop(), method popitem(), dan method clear().\n",
        "\n",
        "- Fungsi del adalah fungsi untuk menghapus suatu variabel dari memori.\n",
        "\n",
        "- Method pop() adalah method yang berfungsi untuk mengeluarkan item yang diinginkan dari dictionary.\n",
        "\n",
        "- Method popitem() adalah method yang digunakan untuk menghapus item yang terakhir.\n",
        "\n",
        "- Method clear() adalah method yang digunakan untuk mengosongkan dictionary."
      ]
    },
    {
      "cell_type": "code",
      "metadata": {
        "id": "Tv2i5H42OsIk",
        "colab": {
          "base_uri": "https://localhost:8080/"
        },
        "outputId": "287b12f4-854c-4592-faee-d1e012b29908"
      },
      "source": [
        "#Menghapus item menggunakan del\n",
        "thisdict = {'Name': 'Zara', 'Age': 7, 'Class': 'First'}\n",
        "del thisdict[\"Name\"]\n",
        "\n",
        "print(thisdict)"
      ],
      "execution_count": null,
      "outputs": [
        {
          "output_type": "stream",
          "text": [
            "{'Age': 7, 'Class': 'First'}\n"
          ],
          "name": "stdout"
        }
      ]
    },
    {
      "cell_type": "code",
      "metadata": {
        "colab": {
          "base_uri": "https://localhost:8080/"
        },
        "id": "chDD-h4JlfjB",
        "outputId": "636ca82a-ecfa-43a1-f688-2c6f33b12f98"
      },
      "source": [
        "thisdict = {'Nama': 'Ferna', 'Umur': 20, 'Univ': 'UAD'}\n",
        "del thisdict[\"Nama\"]\n",
        "\n",
        "print(thisdict)"
      ],
      "execution_count": 90,
      "outputs": [
        {
          "output_type": "stream",
          "text": [
            "{'Umur': 20, 'Univ': 'UAD'}\n"
          ],
          "name": "stdout"
        }
      ]
    },
    {
      "cell_type": "code",
      "metadata": {
        "id": "5tHFrmvsOzKw",
        "colab": {
          "base_uri": "https://localhost:8080/"
        },
        "outputId": "0bcedee1-3da2-49c6-f409-e953e550b76a"
      },
      "source": [
        "#Menghapus item menggunakan method pop()\n",
        "thisdict = {'Name': 'Zara', 'Age': 7, 'Class': 'First'}\n",
        "thisdict.pop(\"Age\")\n",
        "\n",
        "print(thisdict)"
      ],
      "execution_count": null,
      "outputs": [
        {
          "output_type": "stream",
          "text": [
            "{'Name': 'Zara', 'Class': 'First'}\n"
          ],
          "name": "stdout"
        }
      ]
    },
    {
      "cell_type": "code",
      "metadata": {
        "colab": {
          "base_uri": "https://localhost:8080/"
        },
        "id": "OMKwP92Wl0h5",
        "outputId": "bce24188-435b-437e-ec15-a294526ce6d1"
      },
      "source": [
        "thisdict = {'Nama': 'Ferna', 'Umur': 20, 'Univ': 'UAD'}\n",
        "thisdict.pop(\"Umur\")\n",
        "\n",
        "print(thisdict)"
      ],
      "execution_count": 91,
      "outputs": [
        {
          "output_type": "stream",
          "text": [
            "{'Nama': 'Ferna', 'Univ': 'UAD'}\n"
          ],
          "name": "stdout"
        }
      ]
    },
    {
      "cell_type": "code",
      "metadata": {
        "id": "2wR2qAe1O0_p",
        "colab": {
          "base_uri": "https://localhost:8080/"
        },
        "outputId": "3ad1ab2c-68af-4780-dd84-b189baf2b40f"
      },
      "source": [
        "#Menghapus item menggunakan method popitem()\n",
        "thisdict = {'Name': 'Zara', 'Age': 7, 'Class': 'First'}\n",
        "thisdict.popitem()\n",
        "\n",
        "print(thisdict)"
      ],
      "execution_count": null,
      "outputs": [
        {
          "output_type": "stream",
          "text": [
            "{'Name': 'Zara', 'Age': 7}\n"
          ],
          "name": "stdout"
        }
      ]
    },
    {
      "cell_type": "code",
      "metadata": {
        "colab": {
          "base_uri": "https://localhost:8080/"
        },
        "id": "WDuHX6KNmNcR",
        "outputId": "d35d82a8-9565-47d3-b678-51fb663f10d3"
      },
      "source": [
        "thisdict = {'Nama': 'Ferna', 'Umur': 20, 'Univ': 'UAD'}\n",
        "thisdict.popitem()\n",
        "\n",
        "print(thisdict)"
      ],
      "execution_count": 92,
      "outputs": [
        {
          "output_type": "stream",
          "text": [
            "{'Nama': 'Ferna', 'Umur': 20}\n"
          ],
          "name": "stdout"
        }
      ]
    },
    {
      "cell_type": "code",
      "metadata": {
        "id": "obesr1UqO_u5",
        "colab": {
          "base_uri": "https://localhost:8080/"
        },
        "outputId": "793cedce-f4eb-4133-b663-f5fc07c34052"
      },
      "source": [
        "#Menghapus item menggunakan method clear()\n",
        "thisdict = {'Name': 'Zara', 'Age': 7, 'Class': 'First'}\n",
        "thisdict.clear()\n",
        "\n",
        "print(thisdict)"
      ],
      "execution_count": null,
      "outputs": [
        {
          "output_type": "stream",
          "text": [
            "{}\n"
          ],
          "name": "stdout"
        }
      ]
    },
    {
      "cell_type": "code",
      "metadata": {
        "colab": {
          "base_uri": "https://localhost:8080/"
        },
        "id": "WppYCD5fmimv",
        "outputId": "7a1e5c90-594f-4bd0-909d-64b92fe3b87a"
      },
      "source": [
        "thisdict = {'Nama': 'Ferna', 'Umur': 20, 'Univ': 'UAD'}\n",
        "thisdict.clear()\n",
        "\n",
        "print(thisdict)"
      ],
      "execution_count": 93,
      "outputs": [
        {
          "output_type": "stream",
          "text": [
            "{}\n"
          ],
          "name": "stdout"
        }
      ]
    },
    {
      "cell_type": "markdown",
      "metadata": {
        "id": "VfK6RhraFOoQ"
      },
      "source": [
        "Dan kalo menghapus dictionary ternyata ada 4 cara lohh, pada contoh di atas sudah jelas kan, supaya tambah jelas silahkan dicoba yaa ;)"
      ]
    },
    {
      "cell_type": "code",
      "metadata": {
        "id": "1-BGdhElFert",
        "colab": {
          "base_uri": "https://localhost:8080/"
        },
        "outputId": "69b632aa-dfde-4076-b897-40844e3fd0af"
      },
      "source": [
        "thisdict = {'Nama': 'Ferna', 'Umur': 20, 'Univ': 'UAD'}\n",
        "del thisdict[\"Nama\"]\n",
        "\n",
        "print(thisdict)#Menghapus item menggunakan del\n",
        "\n",
        "\n",
        "thisdict = {'Nama': 'Ferna', 'Umur': 20, 'Univ': 'UAD'}\n",
        "thisdict.pop(\"Umur\")\n",
        "\n",
        "print(thisdict)#Menghapus item menggunapak method pop()\n",
        "\n",
        "\n",
        "thisdict = {'Nama': 'Ferna', 'Umur': 20, 'Univ': 'UAD'}\n",
        "thisdict.popitem()\n",
        "\n",
        "print(thisdict)#Menghapus item menggunakan method popitem()\n",
        "\n",
        "\n",
        "thisdict = {'Nama': 'Ferna', 'Umur': 20, 'Univ': 'UAD'}\n",
        "thisdict.clear()\n",
        "\n",
        "print(thisdict)#Menghapus item menggunakan method clear()"
      ],
      "execution_count": 94,
      "outputs": [
        {
          "output_type": "stream",
          "text": [
            "{'Umur': 20, 'Univ': 'UAD'}\n",
            "{'Nama': 'Ferna', 'Univ': 'UAD'}\n",
            "{'Nama': 'Ferna', 'Umur': 20}\n",
            "{}\n"
          ],
          "name": "stdout"
        }
      ]
    },
    {
      "cell_type": "markdown",
      "metadata": {
        "id": "yw-oOwJyPIFA"
      },
      "source": [
        "## Menyalin Dictionary"
      ]
    },
    {
      "cell_type": "markdown",
      "metadata": {
        "id": "ijhQx7qmPgcF"
      },
      "source": [
        "Untuk menyalin dictionary, kita dapat menggunakan method copy()."
      ]
    },
    {
      "cell_type": "code",
      "metadata": {
        "id": "Q-CWNgUuPPqg",
        "colab": {
          "base_uri": "https://localhost:8080/"
        },
        "outputId": "fd7e991d-aca5-41df-f524-26dedb0faf11"
      },
      "source": [
        "#Menggunakan method copy()\n",
        "thisdict = {'Name': 'Zara', 'Age': 7, 'Class': 'First'}\n",
        "mydict=thisdict.copy()\n",
        "\n",
        "print(mydict)"
      ],
      "execution_count": null,
      "outputs": [
        {
          "output_type": "stream",
          "text": [
            "{'Name': 'Zara', 'Age': 7, 'Class': 'First'}\n"
          ],
          "name": "stdout"
        }
      ]
    },
    {
      "cell_type": "code",
      "metadata": {
        "colab": {
          "base_uri": "https://localhost:8080/"
        },
        "id": "6zVnGJ8xnwdO",
        "outputId": "eb35127a-cbde-4ba6-86c2-c69d2fa7c6b9"
      },
      "source": [
        "thisdict = {'nama': 'M', 'umur': 21, 'xx': 'awesome'}\n",
        "mydict=thisdict.copy()\n",
        "\n",
        "print(mydict)"
      ],
      "execution_count": 95,
      "outputs": [
        {
          "output_type": "stream",
          "text": [
            "{'nama': 'M', 'umur': 21, 'xx': 'awesome'}\n"
          ],
          "name": "stdout"
        }
      ]
    },
    {
      "cell_type": "markdown",
      "metadata": {
        "id": "VhzUKxt8Ghg_"
      },
      "source": [
        "Yuk coba salin dictionary yang telah kalian buat tadi, biar bisa diotak atik lagi xixixi"
      ]
    },
    {
      "cell_type": "code",
      "metadata": {
        "id": "cYpu8BnOGfnZ",
        "colab": {
          "base_uri": "https://localhost:8080/"
        },
        "outputId": "af08adb1-2d32-47c4-8f8f-9d2c2b6da514"
      },
      "source": [
        "#Menyalin dictionary\n",
        "\n",
        "thisdict = {'nama': 'M', 'umur': 21, 'xx': 'awesome'}\n",
        "mydict=thisdict.copy()\n",
        "\n",
        "print(mydict)"
      ],
      "execution_count": 96,
      "outputs": [
        {
          "output_type": "stream",
          "text": [
            "{'nama': 'M', 'umur': 21, 'xx': 'awesome'}\n"
          ],
          "name": "stdout"
        }
      ]
    },
    {
      "cell_type": "markdown",
      "metadata": {
        "id": "HapRCuUdJcal"
      },
      "source": [
        "## Nested Dictionary\n",
        "Nested Dictionary atau kamus bertingkat merupakan suatu kamus yang mana kamus tersebut bisa diisi dengan satu atau lebih kamus di dalamnya.\n",
        "\n",
        "Kita akan membuat sebuah contoh Kamus yang memuat 3 kamus di dalamnya"
      ]
    },
    {
      "cell_type": "code",
      "metadata": {
        "id": "a7HX1DVFJiQN",
        "colab": {
          "base_uri": "https://localhost:8080/"
        },
        "outputId": "9d3c899a-6483-46df-aefc-a811550ebf3d"
      },
      "source": [
        "Keluarga_afif={\n",
        "    \"anak1\":{\n",
        "        \"nama\":\"dera\",\n",
        "        \"Tanggal Lahir\": 19012000\n",
        "    },\n",
        "    \"anak2\":{\n",
        "        \"nama\":\"Joko\",\n",
        "        \"Tanggal Lahir\": 17091997 \n",
        "    },\n",
        "    \"anak3\":{\n",
        "        \"nama\":\"Asih\",\n",
        "        \"Tanggal Lahir\": 20022000\n",
        "    }\n",
        "}\n",
        "\n",
        "print(Keluarga_afif)"
      ],
      "execution_count": null,
      "outputs": [
        {
          "output_type": "stream",
          "text": [
            "{'anak1': {'nama': 'dera', 'Tanggal Lahir': 19012000}, 'anak2': {'nama': 'Joko', 'Tanggal Lahir': 17091997}, 'anak3': {'nama': 'Asih', 'Tanggal Lahir': 20022000}}\n"
          ],
          "name": "stdout"
        }
      ]
    },
    {
      "cell_type": "code",
      "metadata": {
        "colab": {
          "base_uri": "https://localhost:8080/"
        },
        "id": "j63k5wfeoXiu",
        "outputId": "a306c11b-5d43-44d8-8d0e-977a2add4636"
      },
      "source": [
        "gurl_bahagia={\n",
        "    \"gurl1\":{\n",
        "        \"nama\":\"widya\",\n",
        "        \"nomor mahasiswa\": 18000150015\n",
        "    },\n",
        "    \"gurl2\":{\n",
        "        \"nama\":\"lina\",\n",
        "        \"nomor mahasiswa\": 1800015002\n",
        "    },\n",
        "    \"gurl3\":{\n",
        "        \"nama\":\"salma\",\n",
        "        \"Tanggal Lahir\": 1800015090\n",
        "    }\n",
        "}\n",
        "\n",
        "print(gurl_bahagia)"
      ],
      "execution_count": 97,
      "outputs": [
        {
          "output_type": "stream",
          "text": [
            "{'gurl1': {'nama': 'widya', 'nomor mahasiswa': 18000150015}, 'gurl2': {'nama': 'lina', 'nomor mahasiswa': 1800015002}, 'gurl3': {'nama': 'salma', 'Tanggal Lahir': 1800015090}}\n"
          ],
          "name": "stdout"
        }
      ]
    },
    {
      "cell_type": "markdown",
      "metadata": {
        "id": "R43exLqhJpmv"
      },
      "source": [
        "Kita akan membuat suatu Kamus yang akan berisi 3 kamus lainnya"
      ]
    },
    {
      "cell_type": "code",
      "metadata": {
        "id": "SV-t3qX-Jz7P",
        "colab": {
          "base_uri": "https://localhost:8080/"
        },
        "outputId": "027097bb-4829-4fa0-b7a5-55a208b1aeb4"
      },
      "source": [
        "anak1={\"nama\":\"Rikma\",\"Tanggal Lahir\":19012000}\n",
        "anak2={\"nama\":\"Joko\",\"Tanggal Lahir\":17091997}\n",
        "anak3={\"nama\":\"Asih\",\"Tanggal Lahir\":20022000}\n",
        "\n",
        "Keluarga_afif={\"anak1\":anak1,\"anak2\":anak2,\"anak3\":anak3}\n",
        "print(Keluarga_afif)"
      ],
      "execution_count": null,
      "outputs": [
        {
          "output_type": "stream",
          "text": [
            "{'anak1': {'nama': 'Rikma', 'Tanggal Lahir': 19012000}, 'anak2': {'nama': 'Joko', 'Tanggal Lahir': 17091997}, 'anak3': {'nama': 'Asih', 'Tanggal Lahir': 20022000}}\n"
          ],
          "name": "stdout"
        }
      ]
    },
    {
      "cell_type": "code",
      "metadata": {
        "colab": {
          "base_uri": "https://localhost:8080/"
        },
        "id": "3enzcxlspIwd",
        "outputId": "aa713a81-f58a-43ab-caca-188c94a9d0c7"
      },
      "source": [
        "gurl1={\"nama\":\"ferna\",\"nomor mahasiswa\":1800015008}\n",
        "gurl2={\"nama\":\"winda\",\"nomor mahasiswa\":1800015108}\n",
        "gurl3={\"nama\":\"resti\",\"nomor mahasiswa\":1800015071}\n",
        "\n",
        "gurl_bahagia={\"gurl1\":gurl1,\"gurl2\":gurl2,\"gurl3\":gurl3}\n",
        "print(gurl_bahagia)"
      ],
      "execution_count": 98,
      "outputs": [
        {
          "output_type": "stream",
          "text": [
            "{'gurl1': {'nama': 'ferna', 'nomor mahasiswa': 1800015008}, 'gurl2': {'nama': 'winda', 'nomor mahasiswa': 1800015108}, 'gurl3': {'nama': 'resti', 'nomor mahasiswa': 1800015071}}\n"
          ],
          "name": "stdout"
        }
      ]
    },
    {
      "cell_type": "markdown",
      "metadata": {
        "id": "rn1_pOZ3J5Z2"
      },
      "source": [
        "Atau kita juga dapat menggunakan fungsi dict() untuk membuat kamus yang baru"
      ]
    },
    {
      "cell_type": "code",
      "metadata": {
        "id": "_Iuj4TapKq3j",
        "colab": {
          "base_uri": "https://localhost:8080/",
          "height": 198
        },
        "outputId": "af873568-98fd-4fa7-839a-a5b6a7f53e06"
      },
      "source": [
        "Indoapril=dict(barang='Minuman',merek='BearBrand',harga=7000)\n",
        "#Perlu di perhatikan  bahwa dalam fungsi dict() kita tidak lagi memakai kolon (:) tetapi menggunakan sama dengan (=)\n",
        "print(Indoapril)"
      ],
      "execution_count": null,
      "outputs": [
        {
          "output_type": "error",
          "ename": "TypeError",
          "evalue": "ignored",
          "traceback": [
            "\u001b[0;31m---------------------------------------------------------------------------\u001b[0m",
            "\u001b[0;31mTypeError\u001b[0m                                 Traceback (most recent call last)",
            "\u001b[0;32m<ipython-input-80-43f89556dadf>\u001b[0m in \u001b[0;36m<module>\u001b[0;34m()\u001b[0m\n\u001b[0;32m----> 1\u001b[0;31m \u001b[0mIndoapril\u001b[0m\u001b[0;34m=\u001b[0m\u001b[0mdict\u001b[0m\u001b[0;34m(\u001b[0m\u001b[0mbarang\u001b[0m\u001b[0;34m=\u001b[0m\u001b[0;34m'Minuman'\u001b[0m\u001b[0;34m,\u001b[0m\u001b[0mmerek\u001b[0m\u001b[0;34m=\u001b[0m\u001b[0;34m'BearBrand'\u001b[0m\u001b[0;34m,\u001b[0m\u001b[0mharga\u001b[0m\u001b[0;34m=\u001b[0m\u001b[0;36m7000\u001b[0m\u001b[0;34m)\u001b[0m\u001b[0;34m\u001b[0m\u001b[0;34m\u001b[0m\u001b[0m\n\u001b[0m\u001b[1;32m      2\u001b[0m \u001b[0;31m#Perlu di perhatikan  bahwa dalam fungsi dict() kita tidak lagi memakai kolon (:) tetapi menggunakan sama dengan (=)\u001b[0m\u001b[0;34m\u001b[0m\u001b[0;34m\u001b[0m\u001b[0;34m\u001b[0m\u001b[0m\n\u001b[1;32m      3\u001b[0m \u001b[0mprint\u001b[0m\u001b[0;34m(\u001b[0m\u001b[0mIndoapril\u001b[0m\u001b[0;34m)\u001b[0m\u001b[0;34m\u001b[0m\u001b[0;34m\u001b[0m\u001b[0m\n",
            "\u001b[0;31mTypeError\u001b[0m: 'dict' object is not callable"
          ]
        }
      ]
    },
    {
      "cell_type": "code",
      "metadata": {
        "colab": {
          "base_uri": "https://localhost:8080/",
          "height": 214
        },
        "id": "K-6a8oAGqBOr",
        "outputId": "17ee52d6-a79b-450b-eecd-2563f6bbf859"
      },
      "source": [
        "Indoapril=dict(barang='sepatu',merek='vans',harga=2700000)\n",
        "#Perlu di perhatikan  bahwa dalam fungsi dict() kita tidak lagi memakai kolon (:) tetapi menggunakan sama dengan (=)\n",
        "print(Indoapril)"
      ],
      "execution_count": 99,
      "outputs": [
        {
          "output_type": "error",
          "ename": "TypeError",
          "evalue": "ignored",
          "traceback": [
            "\u001b[0;31m---------------------------------------------------------------------------\u001b[0m",
            "\u001b[0;31mTypeError\u001b[0m                                 Traceback (most recent call last)",
            "\u001b[0;32m<ipython-input-99-dedbefef03ed>\u001b[0m in \u001b[0;36m<module>\u001b[0;34m()\u001b[0m\n\u001b[0;32m----> 1\u001b[0;31m \u001b[0mIndoapril\u001b[0m\u001b[0;34m=\u001b[0m\u001b[0mdict\u001b[0m\u001b[0;34m(\u001b[0m\u001b[0mbarang\u001b[0m\u001b[0;34m=\u001b[0m\u001b[0;34m'sepatu'\u001b[0m\u001b[0;34m,\u001b[0m\u001b[0mmerek\u001b[0m\u001b[0;34m=\u001b[0m\u001b[0;34m'vans'\u001b[0m\u001b[0;34m,\u001b[0m\u001b[0mharga\u001b[0m\u001b[0;34m=\u001b[0m\u001b[0;36m2700000\u001b[0m\u001b[0;34m)\u001b[0m\u001b[0;34m\u001b[0m\u001b[0;34m\u001b[0m\u001b[0m\n\u001b[0m\u001b[1;32m      2\u001b[0m \u001b[0;31m#Perlu di perhatikan  bahwa dalam fungsi dict() kita tidak lagi memakai kolon (:) tetapi menggunakan sama dengan (=)\u001b[0m\u001b[0;34m\u001b[0m\u001b[0;34m\u001b[0m\u001b[0;34m\u001b[0m\u001b[0m\n\u001b[1;32m      3\u001b[0m \u001b[0mprint\u001b[0m\u001b[0;34m(\u001b[0m\u001b[0mIndoapril\u001b[0m\u001b[0;34m)\u001b[0m\u001b[0;34m\u001b[0m\u001b[0;34m\u001b[0m\u001b[0m\n",
            "\u001b[0;31mTypeError\u001b[0m: 'dict' object is not callable"
          ]
        }
      ]
    },
    {
      "cell_type": "markdown",
      "metadata": {
        "id": "hqro2QmYG3pA"
      },
      "source": [
        "Paham belum nih tentang materi nested dictionary, coba sekarang kalian buat dan pahami, nanti pasti paham kalo udah nyoba ;)"
      ]
    },
    {
      "cell_type": "code",
      "metadata": {
        "id": "D9WDIcsaPysc",
        "colab": {
          "base_uri": "https://localhost:8080/"
        },
        "outputId": "447b4a45-0e29-455d-c60e-4544381fc3ef"
      },
      "source": [
        "#Nested dictionary\n",
        "gurl1={\"nama\":\"ferna\",\"nomor mahasiswa\":1800015008}\n",
        "gurl2={\"nama\":\"winda\",\"nomor mahasiswa\":1800015108}\n",
        "gurl3={\"nama\":\"resti\",\"nomor mahasiswa\":1800015071}\n",
        "\n",
        "gurl_bahagia={\"gurl1\":gurl1,\"gurl2\":gurl2,\"gurl3\":gurl3}\n",
        "print(gurl_bahagia)\n"
      ],
      "execution_count": 100,
      "outputs": [
        {
          "output_type": "stream",
          "text": [
            "{'gurl1': {'nama': 'ferna', 'nomor mahasiswa': 1800015008}, 'gurl2': {'nama': 'winda', 'nomor mahasiswa': 1800015108}, 'gurl3': {'nama': 'resti', 'nomor mahasiswa': 1800015071}}\n"
          ],
          "name": "stdout"
        }
      ]
    },
    {
      "cell_type": "markdown",
      "metadata": {
        "id": "PP7KHpy-ymYq"
      },
      "source": [
        "\n",
        "\n",
        "---\n",
        "\n",
        "\n",
        "#**Berbagai Method untuk Dictionary**\n",
        "\n",
        "---\n",
        "\n"
      ]
    },
    {
      "cell_type": "markdown",
      "metadata": {
        "id": "hzM9fg8rILk9"
      },
      "source": [
        "- clear() : Menghapus semua elemen dictionary\n",
        "- copy() : Mengembalikan salinan dictionary\n",
        "- fromkeys() : Buat Dictionary baru dengan kunci dari seq dan nilai yang disetel ke nilai.\n",
        "- get() : Mengembalikan nilai dari kunci yang ditentukan\n",
        "- items() : Mengembalikan daftar dari pasangan tuple dictionary (key, value)\n",
        "- keys() : Mengembalikan daftar key dictionary\n",
        "- pop() : Menghapus item kunci yang disebutkan\n",
        "- popitem() : Menghapus item yang terakhir dimasukkan\n",
        "- setdefault() : Mengembalikan nilai dari kunci yang ditentukan. Jika kunci tidak ada: masukkan kunci dengan nilai yang ditentukan\n",
        "- update() : Menambah pasangan kunci yang diinginkan\n",
        "- values() : Mengembalikan daftar nilai dictionary"
      ]
    },
    {
      "cell_type": "markdown",
      "metadata": {
        "id": "Sacny0IzM1xc"
      },
      "source": [
        "## Clear()\n",
        "Untuk menghapus semua item/elemen yang termuat didalam dictionary, gunakan fungsi **clear()**\n",
        "\n",
        "dictionary.clear\n",
        "\n",
        "print(dictionary)"
      ]
    },
    {
      "cell_type": "code",
      "metadata": {
        "id": "aDt2u6E1OJK-",
        "colab": {
          "base_uri": "https://localhost:8080/"
        },
        "outputId": "8c0bda5a-07b3-40d2-fe8b-3b21311f598b"
      },
      "source": [
        "dict= {'Universitas' : 'UAD' , 'Prodi' : 'Matematika' , 'Tahun' : 2018 , 1800015065 : 'NIM'}\n",
        "dict.clear()\n",
        "print(dict)"
      ],
      "execution_count": null,
      "outputs": [
        {
          "output_type": "stream",
          "text": [
            "{}\n"
          ],
          "name": "stdout"
        }
      ]
    },
    {
      "cell_type": "code",
      "metadata": {
        "colab": {
          "base_uri": "https://localhost:8080/"
        },
        "id": "wDnpDo86rcIR",
        "outputId": "84216f53-c42a-4bb6-b4a7-403eac6fb5be"
      },
      "source": [
        "dict= {'Universitas' : 'UAD' , 'Prodi' : 'Matematika' , 'Tahun' : 2018 , 1800015008 : 'NIM'}\n",
        "dict.clear()\n",
        "print(dict)"
      ],
      "execution_count": 101,
      "outputs": [
        {
          "output_type": "stream",
          "text": [
            "{}\n"
          ],
          "name": "stdout"
        }
      ]
    },
    {
      "cell_type": "markdown",
      "metadata": {
        "id": "_AGp8ZqbMnws"
      },
      "source": [
        "## Copy()\n",
        "Untuk mengcopy/menyalin item didalam dictionary, bisa digunakan fungsi **copy()**"
      ]
    },
    {
      "cell_type": "code",
      "metadata": {
        "id": "56NFeeSSNOVo",
        "colab": {
          "base_uri": "https://localhost:8080/"
        },
        "outputId": "3d87ace6-facd-427e-cb8c-76d067c5c59f"
      },
      "source": [
        "dict= {'Universitas' : 'UAD' , 'Prodi' : 'Matematika' , 'Tahun' : 2018 , 1800015065 : 'NIM'}\n",
        "C=dict.copy()\n",
        "print(C)"
      ],
      "execution_count": null,
      "outputs": [
        {
          "output_type": "stream",
          "text": [
            "{'Universitas': 'UAD', 'Prodi': 'Matematika', 'Tahun': 2018, 1800015065: 'NIM'}\n"
          ],
          "name": "stdout"
        }
      ]
    },
    {
      "cell_type": "code",
      "metadata": {
        "colab": {
          "base_uri": "https://localhost:8080/"
        },
        "id": "K5JA7IZLritX",
        "outputId": "d44aa8a2-9c1f-4cf8-e11c-324a8b950d0b"
      },
      "source": [
        "dict= {'Universitas' : 'UAD' , 'Prodi' : 'Matematika' , 'Tahun' : 2018 , 1800015008 : 'NIM'}\n",
        "C=dict.copy()\n",
        "print(C)"
      ],
      "execution_count": 102,
      "outputs": [
        {
          "output_type": "stream",
          "text": [
            "{'Universitas': 'UAD', 'Prodi': 'Matematika', 'Tahun': 2018, 1800015008: 'NIM'}\n"
          ],
          "name": "stdout"
        }
      ]
    },
    {
      "cell_type": "markdown",
      "metadata": {
        "id": "Z6XDDzg2NyZ9"
      },
      "source": [
        "##Fromkeys()\n",
        "Untuk menyalin elemen di dalam dictionary, namun dengan kunci(key) dan nilai(value) tertentu, dapat menggunakan fungsi **fromkeys()**\n",
        "\n"
      ]
    },
    {
      "cell_type": "code",
      "metadata": {
        "id": "_KqfaOR_OUCc",
        "colab": {
          "base_uri": "https://localhost:8080/"
        },
        "outputId": "832412b8-315d-4e8d-9d82-215ef047c765"
      },
      "source": [
        "dict= {'Universitas' : 'UAD' , 'Prodi' : 'Matematika' , 'Tahun' : 2018 , 1800015065 : 'NIM'}\n",
        "x = ('Universitas', 'Prodi')\n",
        "y = 0\n",
        "\n",
        "thisdict = dict.fromkeys(x, y)\n",
        "\n",
        "print(thisdict)"
      ],
      "execution_count": null,
      "outputs": [
        {
          "output_type": "stream",
          "text": [
            "{'Universitas': 0, 'Prodi': 0}\n"
          ],
          "name": "stdout"
        }
      ]
    },
    {
      "cell_type": "code",
      "metadata": {
        "colab": {
          "base_uri": "https://localhost:8080/"
        },
        "id": "eAt2YaDurpM3",
        "outputId": "b8b382d3-b35f-44b6-fd09-3b5034fd8558"
      },
      "source": [
        "dict= {'Universitas' : 'UAD' , 'Prodi' : 'Matematika' , 'Tahun' : 2018 , 1800015008 : 'NIM'}\n",
        "x = ('Tahun', 'NIM')\n",
        "y = 0\n",
        "\n",
        "thisdict = dict.fromkeys(x, y)\n",
        "\n",
        "print(thisdict)"
      ],
      "execution_count": 103,
      "outputs": [
        {
          "output_type": "stream",
          "text": [
            "{'Tahun': 0, 'NIM': 0}\n"
          ],
          "name": "stdout"
        }
      ]
    },
    {
      "cell_type": "markdown",
      "metadata": {
        "id": "nl9ZkUY4gDRJ"
      },
      "source": [
        "## Get()"
      ]
    },
    {
      "cell_type": "code",
      "metadata": {
        "id": "u8CbPd6igFW9",
        "colab": {
          "base_uri": "https://localhost:8080/"
        },
        "outputId": "f5a52d7a-35f4-4fac-a269-0d4bd9471bd3"
      },
      "source": [
        "car =\t{\n",
        "  \"brand\": \"Ford\",\n",
        "  \"model\": \"Mustang\",\n",
        "  \"year\": 1964\n",
        "}\n",
        "\n",
        "print(car.get('model'))"
      ],
      "execution_count": null,
      "outputs": [
        {
          "output_type": "stream",
          "text": [
            "Mustang\n"
          ],
          "name": "stdout"
        }
      ]
    },
    {
      "cell_type": "code",
      "metadata": {
        "colab": {
          "base_uri": "https://localhost:8080/"
        },
        "id": "k3LJ0x7Tr5v7",
        "outputId": "aa74b101-bfd5-4129-de73-bd1e092c6d19"
      },
      "source": [
        "airplane =\t{\n",
        "  \"brand\": \"Garuda Indonesia\",\n",
        "  \"model\": \"Garuda\",\n",
        "  \"year\": 6745\n",
        "}\n",
        "\n",
        "print(airplane.get('brand'))"
      ],
      "execution_count": 104,
      "outputs": [
        {
          "output_type": "stream",
          "text": [
            "Garuda Indonesia\n"
          ],
          "name": "stdout"
        }
      ]
    },
    {
      "cell_type": "markdown",
      "metadata": {
        "id": "IfzbaW4lgWTa"
      },
      "source": [
        "##Items()"
      ]
    },
    {
      "cell_type": "code",
      "metadata": {
        "id": "gn_kNd6lgYlv",
        "colab": {
          "base_uri": "https://localhost:8080/"
        },
        "outputId": "d1768ad3-f0d8-41c5-bb69-81dc4860a735"
      },
      "source": [
        "car =\t{\n",
        "  \"brand\": \"Ford\",\n",
        "  \"model\": \"Mustang\",\n",
        "  \"year\": 1964\n",
        "}\n",
        "\n",
        "print(car.items())"
      ],
      "execution_count": null,
      "outputs": [
        {
          "output_type": "stream",
          "text": [
            "dict_items([('brand', 'Ford'), ('model', 'Mustang'), ('year', 1964)])\n"
          ],
          "name": "stdout"
        }
      ]
    },
    {
      "cell_type": "code",
      "metadata": {
        "colab": {
          "base_uri": "https://localhost:8080/"
        },
        "id": "dZ2c0ssUsvOg",
        "outputId": "ef23dd00-a42e-4b68-ae13-2c093c31081d"
      },
      "source": [
        "airplane =\t{\n",
        "  \"brand\": \"Garuda Indonesia\",\n",
        "  \"model\": \"Garuda\",\n",
        "  \"year\": 6745\n",
        "}\n",
        "print(airplane.items())"
      ],
      "execution_count": 105,
      "outputs": [
        {
          "output_type": "stream",
          "text": [
            "dict_items([('brand', 'Garuda Indonesia'), ('model', 'Garuda'), ('year', 6745)])\n"
          ],
          "name": "stdout"
        }
      ]
    },
    {
      "cell_type": "markdown",
      "metadata": {
        "id": "SAp7WXAbU5Fn"
      },
      "source": [
        "##Pop()\n",
        "\n",
        "Menghapus item kunci sekaligus value yang disebutkan,mari kita lihat contohnya dibawah ini"
      ]
    },
    {
      "cell_type": "code",
      "metadata": {
        "id": "Rt8xRNXcVsSE",
        "colab": {
          "base_uri": "https://localhost:8080/"
        },
        "outputId": "86fcd255-7e98-4924-953d-dc9c551d4418"
      },
      "source": [
        "indoapril={'Barang':'Gundam','Merek':'Bandai','Jumlah':200}\n",
        "indoapril.pop('Barang')\n",
        "print(indoapril)"
      ],
      "execution_count": null,
      "outputs": [
        {
          "output_type": "stream",
          "text": [
            "{'Merek': 'Bandai', 'Jumlah': 200}\n"
          ],
          "name": "stdout"
        }
      ]
    },
    {
      "cell_type": "code",
      "metadata": {
        "colab": {
          "base_uri": "https://localhost:8080/"
        },
        "id": "pgiUM5AOtDLb",
        "outputId": "1db4a1fb-a607-44a9-9eb4-ed6a9e46e5e7"
      },
      "source": [
        "indoapril={'barang':'pakaian','Merek':'prada','Jumlah':50}\n",
        "indoapril.pop('barang')\n",
        "print(indoapril)"
      ],
      "execution_count": 107,
      "outputs": [
        {
          "output_type": "stream",
          "text": [
            "{'Merek': 'prada', 'Jumlah': 50}\n"
          ],
          "name": "stdout"
        }
      ]
    },
    {
      "cell_type": "markdown",
      "metadata": {
        "id": "8VTYZPHvWphG"
      },
      "source": [
        "## Popitem()\n",
        "\n",
        "Menghapus item yang terakhir dimasukkan "
      ]
    },
    {
      "cell_type": "code",
      "metadata": {
        "id": "7Ko__9YSW0d3",
        "colab": {
          "base_uri": "https://localhost:8080/"
        },
        "outputId": "0e5dabf6-c2f2-4101-e1df-27c8a6bc3d6e"
      },
      "source": [
        "#Kita akan menghilangkan pelakor dalam \"kehidupan_keluarga\"\n",
        "kehidupan_keluarga={'suami':'Budi','istri':'Dewi','pelakor':'Sari'}\n",
        "kehidupan_keluarga.popitem()\n",
        "print(kehidupan_keluarga)"
      ],
      "execution_count": null,
      "outputs": [
        {
          "output_type": "stream",
          "text": [
            "{'suami': 'Budi', 'istri': 'Dewi'}\n"
          ],
          "name": "stdout"
        }
      ]
    },
    {
      "cell_type": "code",
      "metadata": {
        "colab": {
          "base_uri": "https://localhost:8080/"
        },
        "id": "T5srRN56tebS",
        "outputId": "d7449b6e-9f8c-42d6-d7a2-8dd6304832bb"
      },
      "source": [
        "kehidupan_keluarga={'suami':'lee tae oh','istri':'ji sun woo','pelakor':'yeo da kyung'}\n",
        "kehidupan_keluarga.popitem()\n",
        "print(kehidupan_keluarga)"
      ],
      "execution_count": 108,
      "outputs": [
        {
          "output_type": "stream",
          "text": [
            "{'suami': 'lee tae oh', 'istri': 'ji sun woo'}\n"
          ],
          "name": "stdout"
        }
      ]
    },
    {
      "cell_type": "markdown",
      "metadata": {
        "id": "-Pa2ANcmYqn3"
      },
      "source": [
        "## Update()\n",
        "\n",
        "Menambahkan pasangan kunci yang diinginkan"
      ]
    },
    {
      "cell_type": "code",
      "metadata": {
        "id": "fGDs07Z5ZDTH",
        "colab": {
          "base_uri": "https://localhost:8080/"
        },
        "outputId": "e66e44e6-f14b-4358-c8c8-a32cf4e671ad"
      },
      "source": [
        "indoapril={'Barang':'Gundam','Merek':'Bandai','Jumlah':2000}\n",
        "indoapril.update({'Tanggal_Masuk': 12022020})\n",
        "print(indoapril)"
      ],
      "execution_count": null,
      "outputs": [
        {
          "output_type": "stream",
          "text": [
            "{'Barang': 'Gundam', 'Merek': 'Bandai', 'Jumlah': 2000, 'Tanggal_Masuk': 12022020}\n"
          ],
          "name": "stdout"
        }
      ]
    },
    {
      "cell_type": "code",
      "metadata": {
        "colab": {
          "base_uri": "https://localhost:8080/"
        },
        "id": "L-1yhb7IvHnK",
        "outputId": "a5d60e17-7c62-4091-8f70-fced97080cb4"
      },
      "source": [
        "indoapril={'barang':'pakaian','Merek':'prada','Jumlah':50}\n",
        "indoapril.update({'Tanggal_Masuk': 17652000})\n",
        "print(indoapril)"
      ],
      "execution_count": 109,
      "outputs": [
        {
          "output_type": "stream",
          "text": [
            "{'barang': 'pakaian', 'Merek': 'prada', 'Jumlah': 50, 'Tanggal_Masuk': 17652000}\n"
          ],
          "name": "stdout"
        }
      ]
    },
    {
      "cell_type": "markdown",
      "metadata": {
        "id": "Ezf7B8N5b0n9"
      },
      "source": [
        "## Values()\n",
        "\n",
        "Mengembalikan daftar nilai pada dictionary\n"
      ]
    },
    {
      "cell_type": "code",
      "metadata": {
        "id": "ka70siM6dsPq",
        "colab": {
          "base_uri": "https://localhost:8080/"
        },
        "outputId": "08f8d12f-e7c8-4c7e-8a17-72f2ac622e8a"
      },
      "source": [
        "indoapril={'Barang':'Gundam','Merek':'Bandai','Jumlah':200}\n",
        "a=indoapril.values()\n",
        "print(a)"
      ],
      "execution_count": null,
      "outputs": [
        {
          "output_type": "stream",
          "text": [
            "dict_values(['Gundam', 'Bandai', 200])\n"
          ],
          "name": "stdout"
        }
      ]
    },
    {
      "cell_type": "code",
      "metadata": {
        "colab": {
          "base_uri": "https://localhost:8080/"
        },
        "id": "MTGvGQ8IvXsm",
        "outputId": "39aee742-b169-4574-86fe-6b5e5ceba5d5"
      },
      "source": [
        "indoapril={'barang':'pakaian','Merek':'prada','Jumlah':50}\n",
        "a=indoapril.values()\n",
        "print(a)"
      ],
      "execution_count": 110,
      "outputs": [
        {
          "output_type": "stream",
          "text": [
            "dict_values(['pakaian', 'prada', 50])\n"
          ],
          "name": "stdout"
        }
      ]
    },
    {
      "cell_type": "markdown",
      "metadata": {
        "id": "SrenDDAWgr7Z"
      },
      "source": [
        "## len()"
      ]
    },
    {
      "cell_type": "markdown",
      "metadata": {
        "id": "R_W396Mng7-8"
      },
      "source": [
        "Method len digunakan untuk mengetahui banyaknya item yang ada pada directory"
      ]
    },
    {
      "cell_type": "code",
      "metadata": {
        "id": "18YplPaigxog",
        "colab": {
          "base_uri": "https://localhost:8080/"
        },
        "outputId": "e13b484e-283b-48d1-86fe-7b4f407b11f0"
      },
      "source": [
        "car =\t{\n",
        "  \"brand\": \"Ford\",\n",
        "  \"model\": \"Mustang\",\n",
        "  \"year\": 1964\n",
        "}\n",
        "\n",
        "print(len(car))"
      ],
      "execution_count": null,
      "outputs": [
        {
          "output_type": "stream",
          "text": [
            "3\n"
          ],
          "name": "stdout"
        }
      ]
    },
    {
      "cell_type": "code",
      "metadata": {
        "id": "m2vXAnPFvgBU"
      },
      "source": [
        "airplane =\t{\n",
        "  \"brand\": \"Garuda Indonesia\",\n",
        "  \"model\": \"Garuda\",\n",
        "  \"year\": 17654\n",
        "}\n"
      ],
      "execution_count": 111,
      "outputs": []
    },
    {
      "cell_type": "markdown",
      "metadata": {
        "id": "Wp4TnoFGQabX"
      },
      "source": [
        "#The End Of Notebook\n",
        "\n",
        "Alhamdulillah"
      ]
    }
  ]
}